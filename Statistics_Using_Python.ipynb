{
 "cells": [
  {
   "cell_type": "markdown",
   "metadata": {},
   "source": [
    "<h1 align='center'> Statistics using Python </h1>"
   ]
  },
  {
   "cell_type": "markdown",
   "metadata": {},
   "source": [
    "### Table of Contents\n",
    "* [Measure of central tendency](#Measure-of-central-tendency)\n",
    "\n",
    "    * [Mean](#Mean-:)\n",
    "    * [Median](#Median-:)\n",
    "    * [Mode](#Mode-:)\n",
    "    \n",
    "* [Measure of Variability](#Measure-of-Variability)\n",
    "\n",
    "    * [Standard Deviation](#Standard-Deviation-:)\n",
    "    * [Variance](#Variance-:)\n",
    "    * [Range](#Range-:)\n",
    "    * [Quartiles](#Quartiles-:)\n",
    "    \n",
    "* [Discrete Probability Distribution](#Discrete-Probability-Distribution)\n",
    "\n",
    "    * [Bernoullis Distribution](#Bernoullis-Distribution-:)\n",
    "    * [Binomial Distribution](#Binomial-Distribution-:)\n",
    "    * [Poisson Distribution](#Poisson-Distribution-:)\n",
    "\n",
    "* [Continuous Probability Distribution](#Continuous-Probability-Distribution)\n",
    "    \n",
    "    * [Uniform Distribution](#Uniform-Distribution-:)\n",
    "    * [Normal Distribution](#Normal-Distribution-:)\n",
    "    * [Exponential Distribution](#Exponential-Distribution-:)\n",
    "\n",
    "* [Testing of Hypothesis](#Testing-of-Hypothesis)\n",
    "    * Parametric Test\n",
    "        * [Z-Test](#Z-Test-:)\n",
    "            * [Mean of Single Population(𝜇)](#Mean-of-Single-Population(𝜇)-:)\n",
    "            * [Mean of difference between two populations ( 𝜇1−𝜇2 )](#Mean-of-difference-between-two-populations-(-𝜇1−𝜇2-)-:)\n",
    "            * [Proportion of single population( 𝜌 )](#Proportion-of-single-population(-𝜌-)-:)\n",
    "            * [Difference between Proportion of two population ( 𝜌1−𝜌2 )](#Difference-between-Proportion-of-two-population-(-𝜌1−𝜌2-)-:)\n",
    "        * [T-Test](#T-Test-:)\n",
    "            * [Unpaired Testing mean of single population](#Unpaired-Testing-mean-of-single-population-:)\n",
    "            * [Unpaired Testing difference between means of two populations](#Unpaired-Testing-difference-between-means-of-two-populations-:)\n",
    "            * [Paired Testing mean of single population](#Paired-Testing-mean-of-single-population-:)\n",
    "        * [Fishers F-test](#Fishers-F-test) \n",
    "        * [Anova](#Anova)\n",
    "            * [One Way Anova](#One-Way-Anova-:)\n",
    "            * [Two Way Anova](#Two-Way-Anova-:)\n",
    "    * Non Parametric Test\n",
    "        * [Chi-Square Test](#Chi-Square-Test-:)\n",
    "        * [Mann-Whitney Utest](#Mann-Whitney-Utest-:)\n",
    "        * [Wilcoxon Signed Rank test](#Wilcoxon-Signed-Rank-test-:)\n",
    "        * [Kruskal-Wallis Test](#Kruskal-Wallis-Test-:)"
   ]
  },
  {
   "cell_type": "code",
   "execution_count": 1,
   "metadata": {},
   "outputs": [],
   "source": [
    "import statistics\n",
    "import numpy as np\n",
    "import scipy.stats\n",
    "import pandas as pd\n",
    "import seaborn as sns\n",
    "import matplotlib.pyplot as plt"
   ]
  },
  {
   "cell_type": "markdown",
   "metadata": {},
   "source": [
    "<hr />\n",
    "\n",
    "## Measure of central tendency\n",
    "1. Mean\n",
    "2. Median\n",
    "3. Mode"
   ]
  },
  {
   "cell_type": "markdown",
   "metadata": {},
   "source": [
    "### Mean :\n",
    "* The arithmetic mean is the sum of the data divided by the number of data points. It is commonly called “the average”.\n",
    "* The Mean is effected by outliers.\n",
    "* The sum of the deviations from the mean is zero. i.e., the sum of the deviations below the mean will always equal the sum of the deviations above the mean.\n",
    "* ${\\text{Arithmetic mean}}={\\bar x} = \\frac{\\sum_n^{i=0}x_i}{n}$"
   ]
  },
  {
   "cell_type": "code",
   "execution_count": 2,
   "metadata": {},
   "outputs": [
    {
     "name": "stdout",
     "output_type": "stream",
     "text": [
      "x = [ 6 15 11  2 12 11  3  7 14  9 13  7  8 12 14 10  7  2 12 18]\n",
      "Arithmetic mean for x = 9\n"
     ]
    }
   ],
   "source": [
    "x = np.random.randint(low=1, high=20, size=20)\n",
    "print(f'x = {x}')\n",
    "print(f'Arithmetic mean for x = {statistics.mean(x)}')"
   ]
  },
  {
   "cell_type": "markdown",
   "metadata": {},
   "source": [
    "### Median :\n",
    "* The median is the middle number in a sorted, ascending or descending, list of numbers and can be more descriptive of that data set than the average.\n",
    "* The median is sometimes used as opposed to the mean when there are outliers in the sequence that might skew the average of the values.\n",
    "* If there is an odd amount of numbers, the median value is the number that is in the middle, with the same amount of numbers below and above.\n",
    "* If there is an even amount of numbers in the list, the middle pair must be determined, added together, and divided by two to find the median value."
   ]
  },
  {
   "cell_type": "code",
   "execution_count": 3,
   "metadata": {},
   "outputs": [
    {
     "name": "stdout",
     "output_type": "stream",
     "text": [
      "x = [17  2 12  8 10  6  5 18 11 13 11  2 17 12 18  6  3  4  2 17]\n",
      "Median for x = 10.5\n"
     ]
    }
   ],
   "source": [
    "x = np.random.randint(low=1, high=20, size=20)\n",
    "print(f'x = {x}')\n",
    "print(f'Median for x = {statistics.median(x)}')"
   ]
  },
  {
   "cell_type": "markdown",
   "metadata": {},
   "source": [
    "### Mode :\n",
    "* The mode is the number that appears most frequently in a data set. \n",
    "* A set of numbers may have one mode, more than one mode, or no mode at all."
   ]
  },
  {
   "cell_type": "code",
   "execution_count": 4,
   "metadata": {},
   "outputs": [
    {
     "name": "stdout",
     "output_type": "stream",
     "text": [
      "x = [1, 2, 3, 5, 4, 2, 6, 3, 8, 3, 2, 6, 3, 9, 10]\n",
      "Mode for x = 3\n"
     ]
    }
   ],
   "source": [
    "x = [1, 2, 3, 5, 4, 2, 6, 3, 8, 3, 2, 6, 3, 9, 10]\n",
    "print(f'x = {x}')\n",
    "print(f'Mode for x = {statistics.mode(x)}')"
   ]
  },
  {
   "cell_type": "markdown",
   "metadata": {},
   "source": [
    "***\n",
    "\n",
    "## Measure of Variability \n",
    "1. Standard Deviation\n",
    "2. Variance\n",
    "3. Range\n",
    "4. Quartiles"
   ]
  },
  {
   "cell_type": "markdown",
   "metadata": {},
   "source": [
    "### Standard Deviation :\n",
    "* The standard deviation is a measure of the amount of variation or dispersion of a set of values.\n",
    "* The standard deviation are the average distance from the mean.\n",
    "* A low standard deviation indicates that the values tend to be close to the mean of the set, while a high standard deviation indicates that the values are spread out over a wider range.\n",
    "* ${\\text{Population Standard Deviation}={\\sigma}={\\sqrt{\\frac{\\sum(x_i-\\bar x)^2}{n}}}}$\n",
    "* ${\\text{Sample Standard Deviation}={S}={\\sqrt{\\frac{\\sum(x_i-\\bar x)^2}{n-1}}}}$"
   ]
  },
  {
   "cell_type": "code",
   "execution_count": 5,
   "metadata": {},
   "outputs": [
    {
     "name": "stdout",
     "output_type": "stream",
     "text": [
      "x = [12 15 16  5 14  2  3 11 17 10 12  1  7  6 16 14 13 17  5 18]\n",
      "Population Standard Deviation for x = 5.291502622129181\n",
      "Sample Standard Deviation for x = 5.385164807134504\n"
     ]
    }
   ],
   "source": [
    "x = np.random.randint(low=1, high=20, size=20)\n",
    "print(f'x = {x}')\n",
    "print(f'Population Standard Deviation for x = {statistics.pstdev(x)}')\n",
    "print(f'Sample Standard Deviation for x = {statistics.stdev(x)}')"
   ]
  },
  {
   "cell_type": "markdown",
   "metadata": {},
   "source": [
    "### Variance :\n",
    "* The square root of Standard Deviation is called Variance\n",
    "* ${\\text{Population Variance}={\\sigma^2}={\\frac{\\sum(x_i-\\bar x)^2}{n}}}$\n",
    "* ${\\text{Sample Standard Deviation}={S^2}={\\frac{\\sum(x_i-\\bar x)^2}{n-1}}}$"
   ]
  },
  {
   "cell_type": "code",
   "execution_count": 6,
   "metadata": {},
   "outputs": [
    {
     "name": "stdout",
     "output_type": "stream",
     "text": [
      "x = [ 4 16 19  3  2 19  7 13  4 18  8  8 10  2  6  3  7 11 19  6]\n",
      "Population Variance for x = 34\n",
      "Sample Variance for x = 36\n"
     ]
    }
   ],
   "source": [
    "x = np.random.randint(low=1, high=20, size=20)\n",
    "print(f'x = {x}')\n",
    "print(f'Population Variance for x = {statistics.pvariance(x)}')\n",
    "print(f'Sample Variance for x = {statistics.variance(x)}')"
   ]
  },
  {
   "cell_type": "markdown",
   "metadata": {},
   "source": [
    "### Range :\n",
    "* The Range is the difference between the lowest and highest values.\n",
    "* The range can sometimes be misleading when there are extremely high or low values.\n",
    "* $\\text{Range}={\\text{Highest Value - Lowest Value}}$"
   ]
  },
  {
   "cell_type": "code",
   "execution_count": 7,
   "metadata": {},
   "outputs": [
    {
     "name": "stdout",
     "output_type": "stream",
     "text": [
      "x = [ 9 17  9 12 15  8  7  4 15 11 15  1 10 19  6  1 10  6  8  4]\n",
      "Range for x = 18\n"
     ]
    }
   ],
   "source": [
    "x = np.random.randint(low=1, high=20, size=20)\n",
    "print(f'x = {x}')\n",
    "print(f'Range for x = {x.max()-x.min()}')"
   ]
  },
  {
   "cell_type": "markdown",
   "metadata": {},
   "source": [
    "### Quartiles :\n",
    "* Quantiles are cut points dividing the range of a probability distribution into continuous intervals with equal probabilities, or dividing the observations in a sample in the same way. \n",
    "<img class=\"rg_i Q4LuWd\" src=\"https://www.simplypsychology.org/boxplot.jpg?ezimgfmt=rs:382x196/rscb20/ng:webp/ngcb20\" data-deferred=\"1\" jsname=\"Q4LuWd\" width=\"500\" height=\"171\" alt=\"Quantile - Wikipedia\" data-iml=\"702.9449999972712\" data-atf=\"true\">\n",
    "\n",
    "* **Outliers :**\n",
    "    - An outlier is a data point that lies outside the overall pattern in a distribution.\n",
    "    - A commonly used rule says that a data point is an outlier if it is more than $1.5\\cdot IQR$ above the third quartile or below the first quartile. Said differently, low outliers are below $\\text{Q}_1-1.5\\cdot\\text{IQR}Q$ and high outliers are above $\\text{Q}_3+1.5\\cdot\\text{IQR}Q$\n",
    "\n"
   ]
  },
  {
   "cell_type": "code",
   "execution_count": 8,
   "metadata": {},
   "outputs": [
    {
     "name": "stdout",
     "output_type": "stream",
     "text": [
      "Outliers of x = [-10, 2, 20, 22, 30]\n"
     ]
    },
    {
     "data": {
      "text/plain": [
       "<matplotlib.axes._subplots.AxesSubplot at 0x2015be76ac8>"
      ]
     },
     "execution_count": 8,
     "metadata": {},
     "output_type": "execute_result"
    },
    {
     "data": {
      "image/png": "[encoded data removed]",
      "text/plain": [
       "<Figure size 360x288 with 1 Axes>"
      ]
     },
     "metadata": {
      "needs_background": "light"
     },
     "output_type": "display_data"
    }
   ],
   "source": [
    "x = [-10, 10, 12, 12, 13, 12, 11, 2, 14, 8, 13, 15, 10, 10, 10, 12, 14, 13, 12, 10, 10, 11, 15, 12, 13, 20, 22, 30]\n",
    "Q1 = np.quantile(x, 0.25)\n",
    "Q3 = np.quantile(x, 0.75)\n",
    "IQR = Q3 - Q1\n",
    "Lower_bound = Q1 - (1.5 * IQR)\n",
    "Upper_bound = Q3 + (1.5 * IQR)\n",
    "Outliers = []\n",
    "for i in x :\n",
    "    if not(Lower_bound < i < Upper_bound):\n",
    "        Outliers.append(i)\n",
    "print(f'Outliers of x = {Outliers}')  \n",
    "plt.figure(figsize=(5, 4))\n",
    "sns.boxplot(x, orient=\"v\")"
   ]
  },
  {
   "cell_type": "markdown",
   "metadata": {},
   "source": [
    "***\n",
    "\n",
    "## Discrete Probability Distribution\n",
    "1. Bernoullis Distribution\n",
    "2. Binomial Distribution\n",
    "3. Poission Distibution"
   ]
  },
  {
   "cell_type": "markdown",
   "metadata": {},
   "source": [
    "### Bernoullis Distribution :\n",
    "* A Bernouilli distribution is a discrete probability distribution for a Bernouilli trial — a random experiment that has only two outcomes (usually called a “Success” or a “Failure”).\n",
    "* ${P(X=x)} = {\\begin{cases}\n",
    "  p; \\ x=0\\\\    \n",
    "  q; \\ x=1    \n",
    "\\end{cases}}$&emsp; where q = 1-p\n",
    "* ${p_r(x)} = {p^xq^{1-x}}$\n",
    "* Mean ${E(x)=p}$\n",
    "* Varaiance ${Var(x)=pq}$"
   ]
  },
  {
   "cell_type": "markdown",
   "metadata": {},
   "source": [
    "### Binomial Distribution :\n",
    "* A binomial distribution can be thought of as simply the probability of a SUCCESS or FAILURE outcome in an experiment or survey that is repeated multiple times. \n",
    "* Number of success we are getting in n trail.\n",
    "* Binomial distribution also have Bell Shaped Curve because of center limit theorem.\n",
    "* ${P_r(X=x)} = {n_{c_x}p^xq^{n-x}}$ &emsp; where x=1, 2, 3 ... n\n",
    "* ${E(x)}={np}$\n",
    "* ${Var(x)}={npq}$"
   ]
  },
  {
   "cell_type": "code",
   "execution_count": 9,
   "metadata": {},
   "outputs": [
    {
     "name": "stdout",
     "output_type": "stream",
     "text": [
      "0.0148\n",
      "0.0207\n",
      "5.0\n"
     ]
    }
   ],
   "source": [
    "#### Probability Mass Function\n",
    "print(scipy.stats.binom.pmf(5,20,0.5).round(4)) # where x = 5, n = 20, p = 0.5\n",
    "#### Cumulative Density Function\n",
    "print(scipy.stats.binom.cdf(5,20,0.5).round(4)) # where x = 0<=x<=5, n = 20, p = 0.5\n",
    "#### Percent Point Function\n",
    "print(scipy.stats.binom.ppf(0.02,20,0.5)) # Opposite of cdf"
   ]
  },
  {
   "cell_type": "markdown",
   "metadata": {},
   "source": [
    "#### Examples :\n",
    "**1. A person reaches office late everyday with prob 0.4. If he reaches office late on more than 3 days, his one day salary will go what is the probability that he does not lose any part of salary in a month.(20 working days)**"
   ]
  },
  {
   "cell_type": "code",
   "execution_count": 10,
   "metadata": {},
   "outputs": [
    {
     "name": "stdout",
     "output_type": "stream",
     "text": [
      "0.0031\n"
     ]
    }
   ],
   "source": [
    "print(scipy.stats.binom.pmf(2,20,0.4).round(4))"
   ]
  },
  {
   "cell_type": "markdown",
   "metadata": {},
   "source": [
    "**2. A manufacturer knows that an average of 1 out of 10 of his products are faulty.What is the probability that a random sample of 5 articles will contain:\n",
    "<br>&emsp;&emsp;A. No faulty products\n",
    "<br>&emsp;&emsp;B. Exactly 1 faulty products\n",
    "<br>&emsp;&emsp;C. At least 2 faulty products\n",
    "<br>&emsp;&emsp;D. No more than 3 faulty products**"
   ]
  },
  {
   "cell_type": "code",
   "execution_count": 11,
   "metadata": {},
   "outputs": [
    {
     "name": "stdout",
     "output_type": "stream",
     "text": [
      "No faulty products = 0.5905\n",
      "Exactly 1 faulty products = 0.328\n",
      "At least 2 faulty products = 0.9914\n",
      "No more than 3 faulty products = 0.0005\n"
     ]
    }
   ],
   "source": [
    "print(f'No faulty products = {scipy.stats.binom.pmf(0,5,0.1).round(4)}')\n",
    "print(f'Exactly 1 faulty products = {scipy.stats.binom.pmf(1,5,0.1).round(4)}')\n",
    "print(f'At least 2 faulty products = {scipy.stats.binom.cdf(2,5,0.1).round(4)}')\n",
    "print(f'No more than 3 faulty products = {(1-scipy.stats.binom.cdf(3,5,0.1)).round(4)}')"
   ]
  },
  {
   "cell_type": "markdown",
   "metadata": {},
   "source": [
    "**3. A software service company currently has 20 projects from each of which each gets 1 crore revenue in a year. The company needs minimum 5 Crore INR revenue to run operations, otherwise, it should shut down the company. The chance of each of its projects being renewed by the clients for next year is 20%. If a project gets renewed, the next year revenue from the project is 10% more than the last year.\n",
    "<br>&emsp;&emsp;A. What is the probability that the company should shut down its operations next year?\n",
    "<br>&emsp;&emsp;B. What is the probability that the company will retain the last year revenue?\n",
    "<br>&emsp;&emsp;C. What is the probability that the company will increase its revenue from the earlier year?\n",
    "<br>&emsp;&emsp;D. What is the probability that the next year revenue will be more than or equal to 11 crore INR?\n",
    "<br>&emsp;&emsp;E. What is the probability that the next year revenue will be less than 11 crore INR?**\n"
   ]
  },
  {
   "cell_type": "code",
   "execution_count": 12,
   "metadata": {},
   "outputs": [
    {
     "name": "stdout",
     "output_type": "stream",
     "text": [
      "probability that the company should shut down its operations next year = 0.6296\n",
      "probability that the company will retain the last year revenue = 8.493206138382448e-13\n",
      "probability that the company will increase its revenue from the earlier year = 8.493206138382448e-13\n",
      "probability that the next year revenue will be more than or equal to 11 crore INR = 0.0026\n",
      "probability that the next year revenue will be less than 11 crore INR = 0.9994\n"
     ]
    }
   ],
   "source": [
    "print(f'probability that the company should shut down its operations next year = \\\n",
    "{scipy.stats.binom.cdf(4,20,0.2).round(4)}')\n",
    "print(f'probability that the company will retain the last year revenue = \\\n",
    "{1-scipy.stats.binom.cdf(18,20,0.2)}')\n",
    "print(f'probability that the company will increase its revenue from the earlier year = \\\n",
    "{(1-scipy.stats.binom.cdf(18,20,0.2))}')\n",
    "print(f'probability that the next year revenue will be more than or equal to 11 crore INR = \\\n",
    "{(1-scipy.stats.binom.cdf(9,20,0.2)).round(4)}')\n",
    "print(f'probability that the next year revenue will be less than 11 crore INR = \\\n",
    "{scipy.stats.binom.cdf(10,20,0.2).round(4)}')"
   ]
  },
  {
   "cell_type": "markdown",
   "metadata": {},
   "source": [
    "### Poisson Distribution :\n",
    "* The Poisson distribution is the discrete probability distribution of the number of events occurring in a given time period, given the average number of times the event occurs over that time period.\n",
    "* ${P_r(X=x)}={\\frac{e^{-\\lambda}\\lambda^x}{x!}}$&emsp; where x = 0, 1, 2, 3 ...\n",
    "* ${Mean \\ E(x)}={Variance \\ Var(x)}={np}={\\lambda}$"
   ]
  },
  {
   "cell_type": "code",
   "execution_count": 13,
   "metadata": {},
   "outputs": [
    {
     "name": "stdout",
     "output_type": "stream",
     "text": [
      "0.0058\n",
      "0.0108\n",
      "11.0\n"
     ]
    }
   ],
   "source": [
    "#### Probability Mass Function\n",
    "print(scipy.stats.poisson.pmf(10,20).round(4)) # where x = 10, lambda = 20\n",
    "#### Cumulative Density Function\n",
    "print(scipy.stats.poisson.cdf(10,20).round(4)) # where x = 0<=x<=10, lambda = 20, p = 0.5\n",
    "#### Percent Point Function\n",
    "print(scipy.stats.poisson.ppf(0.02,20)) # Opposite of cdf"
   ]
  },
  {
   "cell_type": "markdown",
   "metadata": {},
   "source": [
    "#### Examples :\n",
    "**1. In an area, in an year generally 2 times flood happens. If flood happens more than 4times, there is a loss of 10crore of crop value. Huge rain happens this year. What is the chance that there will be no loss of crop**"
   ]
  },
  {
   "cell_type": "code",
   "execution_count": 14,
   "metadata": {},
   "outputs": [
    {
     "name": "stdout",
     "output_type": "stream",
     "text": [
      "0.9473\n"
     ]
    }
   ],
   "source": [
    "print(scipy.stats.poisson.cdf(4,2).round(4))"
   ]
  },
  {
   "cell_type": "markdown",
   "metadata": {},
   "source": [
    "**2. The average number of homes sold by the Acme Realty company is 2 homes per day. What is the probability that exactly 3 homes will be sold tomorrow?**"
   ]
  },
  {
   "cell_type": "code",
   "execution_count": 15,
   "metadata": {},
   "outputs": [
    {
     "name": "stdout",
     "output_type": "stream",
     "text": [
      "0.1804\n"
     ]
    }
   ],
   "source": [
    "print(scipy.stats.poisson.pmf(3,2).round(4))"
   ]
  },
  {
   "cell_type": "markdown",
   "metadata": {},
   "source": [
    "**3. Births in a hospital occur randomly at an average rate of 1.8 births per hour.\n",
    "<br>&emsp;&emsp;A. What is the probability of observing 4 births in a given hour at the hospital?\n",
    "<br>&emsp;&emsp;B. What about the probability of observing more than or equal to 2 births in a given hour at the hospital?**\n"
   ]
  },
  {
   "cell_type": "code",
   "execution_count": 16,
   "metadata": {},
   "outputs": [
    {
     "name": "stdout",
     "output_type": "stream",
     "text": [
      "Probability of observing 4 births in a given hour at the hospital = 0.0723\n",
      "probability of observing more than or equal to 2 births in a given hour at the hospital = 0.5372\n"
     ]
    }
   ],
   "source": [
    "print(f'Probability of observing 4 births in a given hour at the hospital = \\\n",
    "{scipy.stats.poisson.pmf(4,1.8).round(4)}')\n",
    "print(f'probability of observing more than or equal to 2 births in a given hour at the hospital = \\\n",
    "{(1-scipy.stats.poisson.cdf(1,1.8)).round(4)}')"
   ]
  },
  {
   "cell_type": "markdown",
   "metadata": {},
   "source": [
    "**4. 40 calls come in a call centre in every hour on an average. Each call use to take 5 minutes approximately. The call centre employs 2 executives for attending the calls. \n",
    "<br>&emsp;&emsp;A. What is the probability that no call will be gone unanswered in an hour?\n",
    "<br>&emsp;&emsp;B. What is the probability that exactly 10 calls will be gone unanswered in an hour?\n",
    "<br>&emsp;&emsp;C. What is the probability that more than 10 calls will be gone unanswered in an hour?\n",
    "<br>&emsp;&emsp;D. What is the probability that altogether 20 minutes (2 executives together) the executives will sit idle in an hour?\n",
    "<br>&emsp;&emsp;E. What is the probability that not a single minute the executives will sit idle in an hour?**"
   ]
  },
  {
   "cell_type": "code",
   "execution_count": 17,
   "metadata": {},
   "outputs": [
    {
     "name": "stdout",
     "output_type": "stream",
     "text": [
      "probability that no call will be gone unanswered in an hour = 0.0045\n",
      "probability that exactly 10 calls will be gone unanswered in an hour = 0.0425\n",
      "probability that more than 10 calls will be gone unanswered in an hour = 0.8061\n",
      "What is the probability that altogether 20 minutes (2 executives together) the executives will sit idle in an hour = 0.0002\n",
      "probability that not a single minute the executives will sit idle in an hour = 0.9974\n"
     ]
    }
   ],
   "source": [
    "print(f'probability that no call will be gone unanswered in an hour = \\\n",
    "{scipy.stats.poisson.cdf(((2*60)/5),40).round(4)}')\n",
    "print(f'probability that exactly 10 calls will be gone unanswered in an hour = \\\n",
    "{scipy.stats.poisson.pmf(((2*60)/5)+10,40).round(4)}')\n",
    "print(f'probability that more than 10 calls will be gone unanswered in an hour = \\\n",
    "{(1-scipy.stats.poisson.cdf(((2*60)/5)+10,40)).round(4)}')\n",
    "print(f'What is the probability that altogether 20 minutes (2 executives together) the executives \\\n",
    "will sit idle in an hour = {scipy.stats.poisson.pmf(((2*50)/5),40).round(4)}')\n",
    "print(f'probability that not a single minute the executives will sit idle in an hour = \\\n",
    "{(1-scipy.stats.poisson.cdf(((2*60)/5)-1,40)).round(4)}')"
   ]
  },
  {
   "cell_type": "markdown",
   "metadata": {},
   "source": [
    "***\n",
    "\n",
    "## Continuous Probability Distribution\n",
    "1. Uniform Distribution\n",
    "2. Normal Distribution\n",
    "3. Exponential Distribution"
   ]
  },
  {
   "cell_type": "markdown",
   "metadata": {},
   "source": [
    "### Uniform Distribution :\n",
    "* The uniform distribution defines equal probability over a given range for a continuous distribution. For this reason, it is important as a reference distribution.\n",
    "* One of the most important applications of the uniform distribution is in the generation of random numbers. That is, almost all random number generators generate random numbers on the (0,1) interval.\n",
    "* Uniform Distribution also called as Simple (or) Continuous (or) Rectangular Diastribution\n",
    "<img class=\"rg_i Q4LuWd\" src=\"https://upload.wikimedia.org/wikipedia/commons/9/96/Uniform_Distribution_PDF_SVG.svg\" data-deferred=\"1\" jsname=\"Q4LuWd\" width=\"300\" height=\"171\" alt=\"Quantile - Wikipedia\" data-iml=\"702.9449999972712\" data-atf=\"true\">\n",
    "\n",
    "* ${f(x)} = {\\frac{1}{b-a}}$\n",
    "* ${Mean}={median}={\\frac{a+b}{2}}$\n",
    "* ${Variance}={\\frac{(b-a)^2}{12}}$"
   ]
  },
  {
   "cell_type": "code",
   "execution_count": 18,
   "metadata": {},
   "outputs": [
    {
     "name": "stdout",
     "output_type": "stream",
     "text": [
      "0.25\n",
      "2.6668\n"
     ]
    }
   ],
   "source": [
    "#### Cumulative Density Function\n",
    "print(scipy.stats.uniform.cdf(3, 2, 6-2).round(4)) # where x = 0<=x<=3, loc = 2, scale = 6-2\n",
    "#### Percent Point Function\n",
    "print(scipy.stats.uniform.ppf(0.1667,2, 6-2)) # Opposite of cdf"
   ]
  },
  {
   "cell_type": "markdown",
   "metadata": {},
   "source": [
    "#### Examples :\n",
    "**1. The amount of time, in minutes, that a person must wait for a bus is uniformly distributed between 0 and 15 minutes, inclusive.\n",
    "<br>&emsp;&emsp;A. What is the probability that a person waits fewer than 12.5 minutes?\n",
    "<br>&emsp;&emsp;B. On the average, how long must a person wait? Find the mean, μ, and the standard deviation, σ.\n",
    "<br>&emsp;&emsp;C. Ninety percent of the time, the time a person must wait falls below what value? This asks for the 90th percentile.**"
   ]
  },
  {
   "cell_type": "code",
   "execution_count": 19,
   "metadata": {},
   "outputs": [
    {
     "name": "stdout",
     "output_type": "stream",
     "text": [
      "The probability that a person waits fewer than 12.5 minutes = 0.8333\n",
      "Mean = 7.5, Variance = 18.75\n",
      "90th percentile = 13.5\n"
     ]
    }
   ],
   "source": [
    "print(f'The probability that a person waits fewer than 12.5 minutes = \\\n",
    "{scipy.stats.uniform.cdf(12.5, 0, 15).round(4)}')\n",
    "print(f'Mean = {(0+15)/2}, Variance = {round(((15-0)**2)/12, 4)}')\n",
    "print(f'90th percentile = {scipy.stats.uniform.ppf(0.9, 0, 15)}')"
   ]
  },
  {
   "cell_type": "markdown",
   "metadata": {},
   "source": [
    "**2. Ace Heating and Air Conditioning Service finds that the amount of time a repairman needs to fix a furnace is uniformly  distributed between 1.5 and four hours.\n",
    "<br>&emsp;&emsp;A. Find the probability that a randomly selected furnace repair requires more than two hours.\n",
    "<br>&emsp;&emsp;B. Find the probability that a randomly selected furnace repair requires less than three hours.\n",
    "<br>&emsp;&emsp;C. Find the 30th percentile of furnace repair times.\n",
    "<br>&emsp;&emsp;D. The longest 25% of furnace repair times take at least how long? (In other words: find the minimum time for the longest 25% of repair times.)\n",
    "<br>&emsp;&emsp;E. Find the mean and standard deviation**"
   ]
  },
  {
   "cell_type": "code",
   "execution_count": 20,
   "metadata": {},
   "outputs": [
    {
     "name": "stdout",
     "output_type": "stream",
     "text": [
      "probability that a randomly selected furnace repair requires more than two hours = 0.8\n",
      "probability that a randomly selected furnace repair requires less than three hours = 0.6\n",
      "The 30th percentile of furnace repair times = 2.25 hours\n",
      "The longest 25% of furnace repair times = 3.375 hours\n",
      "Mean = 2.75, Variance = 0.5208\n"
     ]
    }
   ],
   "source": [
    "print(f'probability that a randomly selected furnace repair requires more than two hours = \\\n",
    "{(scipy.stats.uniform.cdf(4, 1.5, 4-1.5)-scipy.stats.uniform.cdf(2, 1.5, 4-1.5))}')\n",
    "print(f'probability that a randomly selected furnace repair requires less than three hours = \\\n",
    "{scipy.stats.uniform.cdf(3, 1.5, 4-1.5)}')\n",
    "print(f'The 30th percentile of furnace repair times = {scipy.stats.uniform.ppf(0.30, 1.5, 4-1.5)} hours')\n",
    "print(f'The longest 25% of furnace repair times = {scipy.stats.uniform.ppf(0.75, 1.5, 4-1.5)} hours')\n",
    "print(f'Mean = {(1.5+4)/2}, Variance = {round(((4-1.5)**2)/12, 4)}')"
   ]
  },
  {
   "cell_type": "markdown",
   "metadata": {},
   "source": [
    "**3. The total duration of baseball games in the major league in the 2011 season is uniformly distributed between 447 hours and 521 hours inclusive.\n",
    "<br>&emsp;&emsp; A. What is the probability that the duration of games for a team for the 2011 season is between 480 and 500 hours?\n",
    "<br>&emsp;&emsp; B. What is the 65th percentile for the duration of games for a team for the 2011 season?**"
   ]
  },
  {
   "cell_type": "code",
   "execution_count": 21,
   "metadata": {},
   "outputs": [
    {
     "name": "stdout",
     "output_type": "stream",
     "text": [
      "The probability that the duration of games for a team for the 2011 season is between 480 and 500 hours = 0.2703\n",
      "The 65th percentile for the duration of games for a team for the 2011 season = 495.1 hours\n"
     ]
    }
   ],
   "source": [
    "print(f'The probability that the duration of games for a team for the 2011 season is between 480 and 500 hours = \\\n",
    "{(scipy.stats.uniform.cdf(500, 447, 521-447)-scipy.stats.uniform.cdf(480, 447, 521-447)).round(4)}')\n",
    "print(f'The 65th percentile for the duration of games for a team for the 2011 season = \\\n",
    "{scipy.stats.uniform.ppf(0.65, 447, 521-447)} hours')"
   ]
  },
  {
   "cell_type": "markdown",
   "metadata": {},
   "source": [
    "### Normal Distribution :\n",
    "* The normal distribution is a probability function that describes how the values of a variable are distributed.\n",
    "* It is a symmetric distribution where most of the observations cluster around the central peak and the probabilities for values further away from the mean taper off equally in both directions.\n",
    "* Most of the values are near to Mean and each side Standard Deviation is constant.\n",
    "* Asymptotic curve even it goes near X-axis it does not touch X-axis\n",
    "* Mean = Median = Mode\n",
    "* The point of inflexion is at ${\\mu\\pm1\\sigma}$\n",
    "* The measure of skewness ${S_k}={\\frac{Mean-Mode}{SD}}={0}$\n",
    "<img class=\"rg_i Q4LuWd\" src=\"https://cdn.analystprep.com/cfa-level-1-exam/wp-content/uploads/2019/10/05093814/page-123.jpg\" data-deferred=\"1\" jsname=\"Q4LuWd\" width=\"400\" height=\"171\" alt=\"Quantile - Wikipedia\" data-iml=\"702.9449999972712\" data-atf=\"true\">\n",
    "\n",
    "* **Standard Normal Distribution :**\n",
    "    - The standard normal distribution is a special case of the normal distribution.\n",
    "    - It is the distribution that occurs when a normal random variable has a mean of zero and a standard deviation of one.\n",
    "    - ${z} = {\\frac{x-\\mu}{\\sigma}}\\sim{(0,1)}$\n",
    "    <img class=\"rg_i Q4LuWd\" src=\"https://www.intmath.com/counting-probability/svg/svgphp-normal-probability-distribution-14-s1.svg\" data-deferred=\"1\" jsname=\"Q4LuWd\" width=\"400\" height=\"171\" alt=\"Quantile - Wikipedia\" data-iml=\"702.9449999972712\" data-atf=\"true\">"
   ]
  },
  {
   "cell_type": "code",
   "execution_count": 22,
   "metadata": {},
   "outputs": [
    {
     "name": "stdout",
     "output_type": "stream",
     "text": [
      "0.8413\n",
      "6.946251089368177\n"
     ]
    }
   ],
   "source": [
    "#### Cumulative Density Function\n",
    "print(scipy.stats.norm.cdf(10, 9, 1).round(4)) # where x = 0<=x<=10, mean=9, sd = 1\n",
    "#### Percent Point Function\n",
    "print(scipy.stats.norm.ppf(0.02, 9, 1)) # Opposite of cdf"
   ]
  },
  {
   "cell_type": "markdown",
   "metadata": {},
   "source": [
    "#### Examples :\n",
    "**1. A bank manager has learnt that the length of time the customers have to wait for being attended by the teller is normally distributed with mean time of 5 minutes and standard deviation of 0.8 minutes. Find the probability that a customer has to wait:\n",
    "<br>&emsp;&emsp;A. for less than 6 min \n",
    "<br>&emsp;&emsp;B. for more than 3.5 min \n",
    "<br>&emsp;&emsp;C. between 3.4 and 6.2 min.**"
   ]
  },
  {
   "cell_type": "code",
   "execution_count": 23,
   "metadata": {},
   "outputs": [
    {
     "name": "stdout",
     "output_type": "stream",
     "text": [
      "probability that a customer has to wait for less than 6 min = 0.8944\n",
      "probability that a customer has to wait for more than 3.5 min = 0.9696\n",
      "probability that a customer has to wait between 3.4 and 6.2 min = 0.9104\n"
     ]
    }
   ],
   "source": [
    "print(f'probability that a customer has to wait for less than 6 min = \\\n",
    "{(scipy.stats.norm.cdf(6, 5, 0.8)).round(4)}')\n",
    "print(f'probability that a customer has to wait for more than 3.5 min = \\\n",
    "{(1-scipy.stats.norm.cdf(3.5, 5, 0.8)).round(4)}')\n",
    "print(f'probability that a customer has to wait between 3.4 and 6.2 min = \\\n",
    "{(scipy.stats.norm.cdf(6.2, 5, 0.8)-(scipy.stats.norm.cdf(3.4, 5, 0.8))).round(4)}')"
   ]
  },
  {
   "cell_type": "markdown",
   "metadata": {},
   "source": [
    "**2. Buffalos in india yield milk in an average of 4.71kg milk per buffalo per day. This yield is not constant across the india. The yield in meghalaya is lowest and yield in punjab is highest. The standard deviation of the daily yield is 0.95 kg?\n",
    "<br>&emsp;&emsp; A. What is the probability that a buffalo yield less than 3kg milk per day?\n",
    "<br>&emsp;&emsp; B. what is the milk yield that can be suggested with a probability of 85%** "
   ]
  },
  {
   "cell_type": "code",
   "execution_count": 24,
   "metadata": {},
   "outputs": [
    {
     "name": "stdout",
     "output_type": "stream",
     "text": [
      "The probability that a buffalo yield less than 3kg milk per day = 0.0359\n",
      "The milk yield that can be suggested with a probability of 85% = 5.6946\n"
     ]
    }
   ],
   "source": [
    "print(f'The probability that a buffalo yield less than 3kg milk per day = \\\n",
    "{(scipy.stats.norm.cdf(3, 4.71, 0.95)).round(4)}')\n",
    "print(f'The milk yield that can be suggested with a probability of 85% = \\\n",
    "{(scipy.stats.norm.ppf(0.85, 4.71, 0.95)).round(4)}')"
   ]
  },
  {
   "cell_type": "markdown",
   "metadata": {},
   "source": [
    "**3. The final exam scores in a statistics class were normally distributed with a mean of 63 and a standard deviation of 5.\n",
    "<br>&emsp;&emsp;A. Find the probability that a randomly selected student scored more than 65 on the exam.\n",
    "<br>&emsp;&emsp;B. Find the probability that a randomly selected student scored less than 85.\n",
    "<br>&emsp;&emsp;C. Find the 90th percentile (that is, find the score k that has 90% of the scores below k and 10% of the scores above k).\n",
    "<br>&emsp;&emsp;D. Find the 70th percentile (that is, find the score k such that 70% of scores are below k and 30% of the scores are above k).**"
   ]
  },
  {
   "cell_type": "code",
   "execution_count": 25,
   "metadata": {},
   "outputs": [
    {
     "name": "stdout",
     "output_type": "stream",
     "text": [
      "The probability that a randomly selected student scored more than 65 on the exam = 0.3446\n",
      "The probability that a randomly selected student scored less than 85 = 1.0\n",
      "The 90th percentile = 69.4078\n",
      "The 70th percentile = 65.622\n"
     ]
    }
   ],
   "source": [
    "print(f'The probability that a randomly selected student scored more than 65 on the exam = \\\n",
    "{(1-scipy.stats.norm.cdf(65, 63, 5)).round(4)}')\n",
    "print(f'The probability that a randomly selected student scored less than 85 = \\\n",
    "{(scipy.stats.norm.cdf(85, 63, 5)).round(4)}')\n",
    "print(f'The 90th percentile = {(scipy.stats.norm.ppf(0.9, 63, 5)).round(4)}')\n",
    "print(f'The 70th percentile = {(scipy.stats.norm.ppf(0.7, 63, 5)).round(4)}')"
   ]
  },
  {
   "cell_type": "markdown",
   "metadata": {},
   "source": [
    "### Exponential Distribution :\n",
    "* The exponential distribution is the probability distribution of the time between events in a Poisson point process, i.e., a process in which events occur continuously and independently at a constant average rate. It is a particular case of the gamma distribution.\n",
    "* ${f(x)} = {\\begin{cases}\n",
    "  \\mu e^{-\\mu x}; \\ x\\geq 0\\\\    \n",
    "  0; \\ Elsewhere    \n",
    "\\end{cases}}$\n",
    "<img class=\"rg_i Q4LuWd\" src=\"https://media.cheggcdn.com/study/a04/a04ac7ca-852a-401c-b06e-387a65bbfda8/DC-2183V4.png\" data-deferred=\"1\" jsname=\"Q4LuWd\" width=\"300\" height=\"171\" alt=\"Quantile - Wikipedia\" data-iml=\"702.9449999972712\" data-atf=\"true\">"
   ]
  },
  {
   "cell_type": "code",
   "execution_count": 26,
   "metadata": {},
   "outputs": [
    {
     "name": "stdout",
     "output_type": "stream",
     "text": [
      "0.6321\n",
      "9.02020270731752\n"
     ]
    }
   ],
   "source": [
    "#### Cumulative Density Function\n",
    "print(scipy.stats.expon.cdf(10, 9, 1).round(4)) # where x = 0<=x<=10, loc = 9, scale = 1\n",
    "#### Percent Point Function\n",
    "print(scipy.stats.expon.ppf(0.02, 9, 1)) # Opposite of cdf"
   ]
  },
  {
   "cell_type": "markdown",
   "metadata": {},
   "source": [
    "*** \n",
    "\n",
    "## Testing of Hypothesis\n",
    "#### Types of Testing :\n",
    "**1. Parametric Test :** Based on the assumption of some probability distribution.\n",
    "<br>&emsp;&emsp;**i.** Z-test\n",
    "<br>&emsp;&emsp;**ii.** T-test\n",
    "<br>&emsp;&emsp;**iii.** Anova\n",
    "<br>**2. Non Parametric Test :** It is assumed that the data do not follow any probability distribution which is not characterized by any parameters.\n",
    "<br>&emsp;&emsp;**i.** Chi-Square Test\n",
    "<br>&emsp;&emsp;**ii.** Fisher's Exact Probabilities\n",
    "<br>&emsp;&emsp;**iii.** Mann-Whitney U Test\n",
    "<br>&emsp;&emsp;**iv.** Wilcoxon Signed Rank Test\n",
    "<br>&emsp;&emsp;**v.** Kruskal-Wallis Test\n",
    "#### Steps involved in testing of hypothesis :\n",
    "* State NULL and ALTERNATIVE hypothesis.\n",
    "* Specify the level of significance ${\\alpha}$.\n",
    "* Define the Probability distribution the data follows.\n",
    "* Compute the test statistics based defined population.\n",
    "* Define the rejection rejion criteria (Critical Region).\n",
    "* Conclusion"
   ]
  },
  {
   "cell_type": "markdown",
   "metadata": {},
   "source": [
    "***\n",
    "\n",
    "### Z-Test :\n",
    "* Z-Test is also called as Standard Normal Variate test\n",
    "* **Z-Test is Used for testing :**\n",
    "    - Mean of Single Population (${\\mu}$) \n",
    "    - Mean of difference between two populations (${\\mu_1-\\mu_2}$)\n",
    "    - Proportion of single population(${\\rho}$)\n",
    "    - Difference between Proportion of two population (${\\rho_1-\\rho_2}$)\n",
    "* **Assumptions on Z-test :**\n",
    "    - Samples are drawn from normal distribution.\n",
    "    - The population variance should be known.\n",
    "    - Two groups should be independent.\n",
    "    - Data should be allocated randomly to both groups.\n",
    "    - The sample size should be more than 30 **(n>30)**\n",
    "    "
   ]
  },
  {
   "cell_type": "markdown",
   "metadata": {},
   "source": [
    "***\n",
    "\n",
    "#### Mean of Single Population(𝜇) :\n",
    "* ${H_0:\\mu=\\mu_0}\\ \\ vs \\ \\ {H_1:\\mu<\\mu_0}$\n",
    "<br>&emsp;&emsp;&emsp;&emsp;&emsp;&emsp;&emsp;or  ${H_1:\\mu>\\mu_0}$\n",
    "<br>&emsp;&emsp;&emsp;&emsp;&emsp;&emsp;&emsp;or  ${H_1:\\mu\\neq \\mu_0}$\n",
    "* ${Z}={\\frac{\\bar x-\\mu_0}{\\frac{\\sigma}{\\sqrt n}}}{\\cong}{N(0,1)}$\n",
    "\n",
    "##### Examples :\n",
    "**1. It is claimed that sports-car owners drive on the average 17000kms per year. A consumer firm believes that the average milage is probably higher. To check, the consumer firm obtained information from randomly selected 40 sports-car owners that resulted in a sample mean of 17352 kms with a sample standard deviation of 1348 kms. At what can be concluded about this claim at\n",
    "<br>&emsp;&emsp;A. 5% level of significance\n",
    "<br>&emsp;&emsp;B. 1% level of significance**"
   ]
  },
  {
   "cell_type": "markdown",
   "metadata": {},
   "source": [
    "**A. \n",
    "<br>&emsp;STEP-1:State null and alternative hypothesis** :\n",
    "<br>&emsp;&emsp;${H_0}$=The average milage of sports-car as claimed\n",
    "and the sample average milage may be same\n",
    "<br>&emsp;&emsp;&emsp;&emsp; ${H_0:\\mu=\\mu_0=17000}$\n",
    "<br>&emsp;&emsp;${H_1}$=The average milage of sports-car as claimed\n",
    "may be higher than the sample average milage\n",
    "<br>&emsp;&emsp;&emsp;&emsp; ${H_1:\\mu>\\mu_0=17000}$\n",
    "<br>&emsp;**STEP-2:Specify the level of significance  𝛼** :\n",
    "<br>&emsp;&emsp;&emsp;&emsp; 𝛼 = 0.05 and 𝛼 = 0.01\n",
    "<br>&emsp;**STEP-3:Define the Probability distribution the data follows :**\n",
    "<br>&emsp;&emsp; The sample size is greater than 30 i.e., Z-test.\n",
    "<br>&emsp;**STEP-4:Compute the test statistics based defined population :**\n",
    "<br>&emsp;&emsp; Given Population Mean 𝜇 = 17000 kms\n",
    "<br>&emsp;&emsp;&emsp;&emsp;&emsp; Sample Mean ${\\bar x}$ = 17352 kms\n",
    "<br>&emsp;&emsp;&emsp;&emsp;&emsp; Sample SD = ${\\sigma}$ = 1348 kms\n",
    "<br>&emsp;&emsp;&emsp;&emsp;&emsp; Sample Size n = 40"
   ]
  },
  {
   "cell_type": "code",
   "execution_count": 27,
   "metadata": {},
   "outputs": [
    {
     "name": "stdout",
     "output_type": "stream",
     "text": [
      "The z Test Statistics value = 1.6515\n",
      "The P-Value = 0.951\n",
      "The z Critical Value at alpha:0.05 is = 1.645\n",
      "The z Critical Value at alpha:0.01 is = 2.326\n",
      "95% Confidence Interval = [17001.389, 17702.611]\n",
      "99% Confidence Interval = [16856.242, 17847.758]\n"
     ]
    }
   ],
   "source": [
    "mu =17000\n",
    "x_bar = 17352\n",
    "sigma = 1348\n",
    "n = 40\n",
    "alpha1 = 0.05\n",
    "alpha2 = 0.01\n",
    "#### Standard error calculation\n",
    "SE = (sigma/(n)**0.5)\n",
    "#### z statistical value calculation\n",
    "z_Stats = round((x_bar-mu)/ SE, 4)\n",
    "print(f'The z Test Statistics value = {z_Stats}')\n",
    "#### P-value calculation\n",
    "print(f'The P-Value = {scipy.stats.norm.cdf(z_Stats).round(3)}')\n",
    "#### z Critical Value at alpha = 0.05\n",
    "z_Crit_1 = scipy.stats.norm.ppf(1-alpha1).round(3)\n",
    "print(f'The z Critical Value at alpha:0.05 is = {z_Crit_1}')\n",
    "#### z Critical Value at alpha = 0.01\n",
    "z_Crit_2 = scipy.stats.norm.ppf(1-alpha2).round(3)\n",
    "print(f'The z Critical Value at alpha:0.01 is = {z_Crit_2}')\n",
    "#### 95% Confidence Interval \n",
    "CI_Lower_1 = round(x_bar-(z_Crit_1*SE), 3)\n",
    "CI_Upper_1 = round(x_bar+(z_Crit_1*SE), 3)\n",
    "print(f'95% Confidence Interval = {[CI_Lower_1, CI_Upper_1]}')\n",
    "#### 99% Confidence Interval\n",
    "CI_Lower_2 = round(x_bar-(z_Crit_2*SE), 3)\n",
    "CI_Upper_2 = round(x_bar+(z_Crit_2*SE), 3)\n",
    "print(f'99% Confidence Interval = {[CI_Lower_2, CI_Upper_2]}')"
   ]
  },
  {
   "cell_type": "markdown",
   "metadata": {},
   "source": [
    "<br>&emsp;**STEP-5:Conculsion :**"
   ]
  },
  {
   "cell_type": "code",
   "execution_count": 28,
   "metadata": {},
   "outputs": [
    {
     "name": "stdout",
     "output_type": "stream",
     "text": [
      "At Critical Value alpha = 0.05, Reject 𝐻0 and Accept H1\n",
      "At Critical Value alpha = 0.01, Accept 𝐻0 and Reject H1\n"
     ]
    }
   ],
   "source": [
    "print('At Critical Value alpha = 0.05',end=', ')\n",
    "if(z_Stats<z_Crit_1):\n",
    "    print('Accept 𝐻0 and Reject H1')\n",
    "else:\n",
    "    print('Reject 𝐻0 and Accept H1')\n",
    "print('At Critical Value alpha = 0.01',end=', ')\n",
    "if(z_Stats<z_Crit_2):\n",
    "    print('Accept 𝐻0 and Reject H1')\n",
    "else:\n",
    "    print('Reject 𝐻0 and Accept H1')"
   ]
  },
  {
   "cell_type": "markdown",
   "metadata": {},
   "source": [
    "***\n",
    "\n",
    "#### Mean of difference between two populations ( 𝜇1−𝜇2 ) :\n",
    "* ${H_0:\\mu_1=\\mu_2}\\ \\ vs \\ \\ {H_1:\\mu_1<\\mu_2}$\n",
    "<br>&emsp;&emsp;&emsp;&emsp;&emsp;&emsp;&emsp;or  ${H_1:\\mu_1>\\mu_2}$\n",
    "<br>&emsp;&emsp;&emsp;&emsp;&emsp;&emsp;&emsp;or  ${H_1:\\mu_1\\neq \\mu_2}$\n",
    "* ${Z} = {\\frac{\\bar x_1-\\bar x_2}{\\sqrt{\\frac{\\sigma_1^2}{n_1}+\\frac{\\sigma_2^2}{n_2}}}}{\\cong}{N(0,1)}$"
   ]
  },
  {
   "cell_type": "markdown",
   "metadata": {},
   "source": [
    "##### Examples :\n",
    "**1. The manager of a courier service believes that packets delivered at the beginning of the month are heavier than those delivered at the end of month. As an experiment, he weighed a random sample of 20 packets at the beginning of the month and found that the mean weight was 5.25kg. A randomly selected 10 packets at the end of the month had a mean weight of 4.96 kg. It was observed from the past experience that the population SD are 1.20 kg and 1.15 kg. At 5% level of significance, can it be concluded that the packets delivered at the beginning of the month weigh more? Also find P-value and 95% confidence interval for the difference between the means.**"
   ]
  },
  {
   "cell_type": "markdown",
   "metadata": {},
   "source": [
    "**A. \n",
    "<br>&emsp;STEP-1:State null and alternative hypothesis** :\n",
    "<br>&emsp;&emsp;${H_0}$ = The mean weight of packets delivered at the early\n",
    "in the month and at the end of month may be same.\n",
    "<br>&emsp;&emsp;&emsp;&emsp; ${H_0:\\mu_1=\\mu_2}$\n",
    "<br>&emsp;&emsp;${H_1}$ =The mean weight of packets delivered at the\n",
    "end of the month may be higher than at the\n",
    "early of month\n",
    "<br>&emsp;&emsp;&emsp;&emsp; ${H_1:\\mu_1>\\mu_2}$\n",
    "<br>&emsp;**STEP-2:Specify the level of significance  𝛼** :\n",
    "<br>&emsp;&emsp;&emsp;&emsp; 𝛼 = 0.05\n",
    "<br>&emsp;**STEP-3:Define the Probability distribution the data follows :**\n",
    "<br>&emsp;&emsp; The Population standard deviation is known i.e., Z-test.\n",
    "<br>&emsp;**STEP-4:Compute the test statistics based defined population :**\n",
    "<br>&emsp;&emsp; Given \n",
    "<br>&emsp;&emsp;&emsp; For Sample-1\n",
    "<br>&emsp;&emsp;&emsp;&emsp; Sample Size n1 = 20\n",
    "<br>&emsp;&emsp;&emsp;&emsp; Sample mean ${\\mu_1}$ = 5.25 kg\n",
    "<br>&emsp;&emsp;&emsp;&emsp; Population SD ${\\sigma_1}$ = 1.20 kg\n",
    "<br>&emsp;&emsp;&emsp; For Sample-2\n",
    "<br>&emsp;&emsp;&emsp;&emsp; Sample Size n2 = 10\n",
    "<br>&emsp;&emsp;&emsp;&emsp; Sample mean ${\\mu_2}$ = 4.96 kg\n",
    "<br>&emsp;&emsp;&emsp;&emsp; Population SD ${\\sigma_2}$ = 1.15 kg"
   ]
  },
  {
   "cell_type": "code",
   "execution_count": 29,
   "metadata": {},
   "outputs": [
    {
     "name": "stdout",
     "output_type": "stream",
     "text": [
      "The z Test Statistics value = 0.642\n",
      "The P-Value = 0.74\n",
      "The z Critical Value at alpha:0.05 is = 1.645\n",
      "Confidence Interval = [-0.453, 1.033]\n"
     ]
    }
   ],
   "source": [
    "n1 = 20\n",
    "mu1 = 5.25\n",
    "sigma1 = 1.20\n",
    "n2 = 10\n",
    "mu2 = 4.96\n",
    "sigma2 = 1.15\n",
    "alpha = 0.05\n",
    "#### Standard error calculation\n",
    "SE = ((sigma1**2/n1)+(sigma2**2/n2))**0.5\n",
    "#### z statistical value calculation\n",
    "z_Stats = round(((mu1-mu2)/SE), 3)\n",
    "print(f'The z Test Statistics value = {z_Stats}')\n",
    "#### P-value calculation\n",
    "print(f'The P-Value = {scipy.stats.norm.cdf(z_Stats).round(3)}')\n",
    "#### z Critical Value at alpha = 0.05\n",
    "z_Crit = scipy.stats.norm.ppf(1-alpha).round(3)\n",
    "print(f'The z Critical Value at alpha:0.05 is = {z_Crit}')\n",
    "#### 95% Confidence Interval\n",
    "CI_Lower = round((mu1-mu2)-(z_Crit*SE), 3)\n",
    "CI_Upper = round((mu1-mu2)+(z_Crit*SE), 3)\n",
    "print(f'Confidence Interval = {[CI_Lower, CI_Upper]}')"
   ]
  },
  {
   "cell_type": "markdown",
   "metadata": {},
   "source": [
    "<br>&emsp;**STEP-5:Conculsion :**"
   ]
  },
  {
   "cell_type": "code",
   "execution_count": 30,
   "metadata": {},
   "outputs": [
    {
     "name": "stdout",
     "output_type": "stream",
     "text": [
      "Accept 𝐻0 and Reject H1\n"
     ]
    }
   ],
   "source": [
    "if(z_Stats<z_Crit):\n",
    "    print('Accept 𝐻0 and Reject H1')\n",
    "else:\n",
    "    print('Reject 𝐻0 and Accept H1')"
   ]
  },
  {
   "cell_type": "markdown",
   "metadata": {},
   "source": [
    "***\n",
    "\n",
    "#### Proportion of single population( 𝜌 ) :\n",
    "* ${H_0:P=𝜌_0}\\ \\ vs \\ \\ {H_1:P<𝜌_0}$\n",
    "<br>&emsp;&emsp;&emsp;&emsp;&emsp;&emsp;&emsp;or  ${H_1:P>𝜌_0}$\n",
    "<br>&emsp;&emsp;&emsp;&emsp;&emsp;&emsp;&emsp;or  ${H_1:P\\neq 𝜌_0}$\n",
    "* ${Z}={\\frac{P-𝜌_0}{\\sqrt{\\frac{PQ}{n}}}}{\\cong}{N(0,1)}$"
   ]
  },
  {
   "cell_type": "markdown",
   "metadata": {},
   "source": [
    "##### Examples :\n",
    "**1. A builder claims that Solar heaters are installed in 70% of all homes being constructed today in the city of Bangalore. Would you agree with this claim if a random sample of new homes in this city shows that 28 out of 55 had heat pumps installed? What P-value and confidence interval are related in this situation?**"
   ]
  },
  {
   "cell_type": "markdown",
   "metadata": {},
   "source": [
    "**A. \n",
    "<br>&emsp;STEP-1:State null and alternative hypothesis** :\n",
    "<br>&emsp;&emsp;${H_0}$ = 70% of the solar heaters are installed\n",
    "<br>&emsp;&emsp;&emsp;&emsp; ${\\rho}={\\rho_0}=0.7$\n",
    "<br>&emsp;&emsp;${H_1}$ = 70% of the solar heaters are not installed\n",
    "<br>&emsp;&emsp;&emsp;&emsp; ${\\rho}{\\neq}{\\rho_0}=0.7$\n",
    "<br>&emsp;**STEP-2:Specify the level of significance  𝛼** :\n",
    "<br>&emsp;&emsp;&emsp;&emsp; 𝛼 = 0.05 and 𝛼 = 0.01\n",
    "<br>&emsp;**STEP-3:Define the Probability distribution the data follows :**\n",
    "<br>&emsp;&emsp; The sample size is greater than 30 i.e., Z-test.\n",
    "<br>&emsp;**STEP-4:Compute the test statistics based defined population :**\n",
    "<br>&emsp;&emsp; Given Population Proportion ${P}$ = 0.7\n",
    "<br>&emsp;&emsp;&emsp;&emsp;&emsp; Sample Proportion ${\\rho_0}$ = 28/55\n",
    "<br>&emsp;&emsp;&emsp;&emsp;&emsp; Sample Size n = 55\n"
   ]
  },
  {
   "cell_type": "code",
   "execution_count": 31,
   "metadata": {},
   "outputs": [
    {
     "name": "stdout",
     "output_type": "stream",
     "text": [
      "The z Test Statistics value = 3.09\n",
      "The P-Value = 0.999\n",
      "The z Critical Value at alpha : 0.05 is = 1.96\n",
      "Confidence Interval = [0.388, 0.63]\n"
     ]
    }
   ],
   "source": [
    "P = 0.7\n",
    "p0 = 28/55\n",
    "n = 55\n",
    "alpha = 0.05\n",
    "#### Standard error calculation\n",
    "SE = ((P*(1-P))/n)**0.5\n",
    "#### z statistical value calculation\n",
    "z_Stats = round((P-p0)/SE,2)\n",
    "print(f'The z Test Statistics value = {z_Stats}')\n",
    "#### P-value calculation\n",
    "print(f'The P-Value = {scipy.stats.norm.cdf(z_Stats).round(3)}')\n",
    "#### z Critical Value at alpha = 0.05\n",
    "z_Crit = scipy.stats.norm.ppf(1-(alpha/2)).round(3)\n",
    "print(f'The z Critical Value at alpha : 0.05 is = {z_Crit}')\n",
    "#### 95% Confidence Interval\n",
    "CI_Lower = round(p0-(z_Crit*SE), 3)\n",
    "CI_Upper = round(p0+(z_Crit*SE), 3)\n",
    "print(f'Confidence Interval = {[CI_Lower, CI_Upper]}')"
   ]
  },
  {
   "cell_type": "markdown",
   "metadata": {},
   "source": [
    "<br>&emsp;**STEP-5:Conclusion :**"
   ]
  },
  {
   "cell_type": "code",
   "execution_count": 32,
   "metadata": {},
   "outputs": [
    {
     "name": "stdout",
     "output_type": "stream",
     "text": [
      "Reject 𝐻0 and Accept H1\n"
     ]
    }
   ],
   "source": [
    "if(z_Stats<z_Crit):\n",
    "    print('Accept 𝐻0 and Reject H1')\n",
    "else:\n",
    "    print('Reject 𝐻0 and Accept H1')"
   ]
  },
  {
   "cell_type": "markdown",
   "metadata": {},
   "source": [
    "*** \n",
    "\n",
    "#### Difference between Proportion of two population ( 𝜌1−𝜌2 ) :\n",
    "* ${H_0:𝜌_1=𝜌_2}\\ \\ vs \\ \\ {H_1:𝜌_1<𝜌_2}$\n",
    "<br>&emsp;&emsp;&emsp;&emsp;&emsp;&emsp;&emsp;or  ${H_1:𝜌_1>𝜌_2}$\n",
    "<br>&emsp;&emsp;&emsp;&emsp;&emsp;&emsp;&emsp;or  ${H_1:𝜌_1\\neq 𝜌_2}$\n",
    "* ${Z}={\\frac{𝜌_1-𝜌_2}{\\sqrt{\\frac{𝜌_1q_1}{n_1}+\\frac{𝜌_2q_2}{n_2}}}}{\\cong}{N(0,1)}$"
   ]
  },
  {
   "cell_type": "markdown",
   "metadata": {},
   "source": [
    "#### Examples :\n",
    "**1. An economic firm wants to test the hypothesis that whether both urban and rural people will equally support demonitization of India's old currency of Rs.500 and Rs.1000. The firm has selected 30 each of urban and rural people enquired about the effect of demonitization on their dayto-day life. It was and found that 68.4% of Urban population and 41.7% of Rural population have said that the demonitization has affected the dayto-day life. Does this data at 5% support the economic firm to test the hypothesis what they are intendent to test? Find 95% confidence interval for difference in population proportions. Compute P-value**"
   ]
  },
  {
   "cell_type": "markdown",
   "metadata": {},
   "source": [
    "**A. \n",
    "<br>&emsp;STEP-1:State null and alternative hypothesis** :\n",
    "<br>&emsp;&emsp;${H_0}$ = Urban and Rural people will equally support demonitization\n",
    "<br>&emsp;&emsp;&emsp;&emsp; ${\\rho_1}={\\rho_2}$\n",
    "<br>&emsp;&emsp;${H_1}$ = Urban and Rural people will not equally support demonitization\n",
    "<br>&emsp;&emsp;&emsp;&emsp; ${\\rho_1}{\\neq}{\\rho_2}$\n",
    "<br>&emsp;**STEP-2:Specify the level of significance  𝛼** :\n",
    "<br>&emsp;&emsp;&emsp;&emsp; 𝛼 = 0.05\n",
    "<br>&emsp;**STEP-3:Define the Probability distribution the data follows :**\n",
    "<br>&emsp;&emsp; The sample size is equal 30 i.e., Z-test.\n",
    "<br>&emsp;**STEP-4:Compute the test statistics based defined population :**\n",
    "<br>&emsp;&emsp;&emsp; For Sample-1\n",
    "<br>&emsp;&emsp;&emsp;&emsp; Sample Size n1 = 30\n",
    "<br>&emsp;&emsp;&emsp;&emsp; Sample Proportion ${\\rho_1}$ = 0.684\n",
    "<br>&emsp;&emsp;&emsp; For Sample-2\n",
    "<br>&emsp;&emsp;&emsp;&emsp; Sample Size n2 = 30\n",
    "<br>&emsp;&emsp;&emsp;&emsp; Sample Proportion ${\\rho_2}$ = 0.417"
   ]
  },
  {
   "cell_type": "code",
   "execution_count": 33,
   "metadata": {},
   "outputs": [
    {
     "name": "stdout",
     "output_type": "stream",
     "text": [
      "The z Test Statistics value = 2.158\n",
      "The P-Value = 0.985\n",
      "The z Critical Value at alpha : 0.05 is = 1.96\n",
      "Confidence Interval = [0.024, 0.51]\n"
     ]
    }
   ],
   "source": [
    "n1 = 30\n",
    "p1 = 0.684\n",
    "n2 = 30\n",
    "p2 = 0.417\n",
    "alpha = 0.05\n",
    "#### Standard error calculation\n",
    "SE = (((p1*(1-p1))/n1)+((p2*(1-p2))/n2))**0.5\n",
    "#### z statistical value calculation\n",
    "z_Stats = round((p1-p2)/SE, 3)\n",
    "print(f'The z Test Statistics value = {z_Stats}')\n",
    "#### P-value calculation\n",
    "print(f'The P-Value = {scipy.stats.norm.cdf(z_Stats).round(3)}')\n",
    "#### z Critical Value at alpha = 0.05\n",
    "z_Crit = scipy.stats.norm.ppf(1-(alpha/2)).round(3)\n",
    "print(f'The z Critical Value at alpha : 0.05 is = {z_Crit}')\n",
    "#### 95% Confidence Interval\n",
    "CI_Lower = round((p1-p2)-(z_Crit*SE), 3)\n",
    "CI_Upper = round((p1-p2)+(z_Crit*SE), 3)\n",
    "print(f'Confidence Interval = {[CI_Lower, CI_Upper]}')"
   ]
  },
  {
   "cell_type": "markdown",
   "metadata": {},
   "source": [
    "<br>&emsp;**STEP-5:Conclusion :**"
   ]
  },
  {
   "cell_type": "code",
   "execution_count": 34,
   "metadata": {},
   "outputs": [
    {
     "name": "stdout",
     "output_type": "stream",
     "text": [
      "Reject 𝐻0 and Accept H1\n"
     ]
    }
   ],
   "source": [
    "if(z_Stats<z_Crit):\n",
    "    print('Accept 𝐻0 and Reject H1')\n",
    "else:\n",
    "    print('Reject 𝐻0 and Accept H1')"
   ]
  },
  {
   "cell_type": "markdown",
   "metadata": {},
   "source": [
    "***\n",
    "\n",
    "### T-Test :\n",
    "* T-Test is also called as student T-test\n",
    "* **T-Test is Used for testing :**\n",
    "    - Independent sample (or) Unpaired T-Test\n",
    "        - Testing mean of single population\n",
    "        - Testing difference between means of two populations\n",
    "    - Paired T-Test\n",
    "        - Testing mean of single populationpopulations\n",
    "* **Assumptions on T-test :**\n",
    "    - Samples are drawn from normal distribution.\n",
    "    - The population variance are not known.\n",
    "    - The sample size should be less than 30 **(n<30)**.\n",
    "    - Due to central limit theorem for n>30 the data converges to standard normal distribution."
   ]
  },
  {
   "cell_type": "markdown",
   "metadata": {},
   "source": [
    "***\n",
    "\n",
    "#### Unpaired Testing mean of single population :\n",
    "* ${H_0:\\mu=\\mu_0}\\ \\ vs \\ \\ {H_1:\\mu<\\mu_0}$\n",
    "<br>&emsp;&emsp;&emsp;&emsp;&emsp;&emsp;&emsp;or  ${H_1:\\mu>\\mu_0}$\n",
    "<br>&emsp;&emsp;&emsp;&emsp;&emsp;&emsp;&emsp;or  ${H_1:\\mu\\neq \\mu_0}$\n",
    "* ${t}={\\frac{\\bar x-\\mu_0}{\\frac{s}{\\sqrt n}}}{\\cong}{t_{(\\alpha,n-1)}}$"
   ]
  },
  {
   "cell_type": "markdown",
   "metadata": {},
   "source": [
    "##### Examples :\n",
    "**1. It is claimed that sports-car owners drive on the average 18580 kms per year. A consumer firm believes that the average milage is probably higher. To check, the consumer firm obtained information from randomly selected 10 sports-car owners that resulted in a sample mean of 17352 kms with a sample standard deviation of 2012 kms. What can be concluded about this claim at\n",
    "<br>&emsp;&emsp;A. 5% level of significance\n",
    "<br>&emsp;&emsp;B. 1% level of significance**"
   ]
  },
  {
   "cell_type": "markdown",
   "metadata": {},
   "source": [
    "**A. \n",
    "<br>&emsp;STEP-1:State null and alternative hypothesis** :\n",
    "<br>&emsp;&emsp;${H_0}$ = The average milage of sports-car as claimed\n",
    "and the sample average milage may be same\n",
    "<br>&emsp;&emsp;&emsp;&emsp; ${H_0:\\mu=\\mu_0=18580}$\n",
    "<br>&emsp;&emsp;${H_1}$ = The average milage of sports-car as claimed\n",
    "may be higher than the sample average milage\n",
    "<br>&emsp;&emsp;&emsp;&emsp; ${H_1:\\mu>\\mu_0=18580}$\n",
    "<br>&emsp;**STEP-2:Specify the level of significance  𝛼** :\n",
    "<br>&emsp;&emsp;&emsp;&emsp; 𝛼 = 0.05 and 𝛼 = 0.01\n",
    "<br>&emsp;**STEP-3:Define the Probability distribution the data follows :**\n",
    "<br>&emsp;&emsp; The sample size is less than 30 i.e., t-test.\n",
    "<br>&emsp;**STEP-4:Compute the test statistics based defined population :**\n",
    "<br>&emsp;&emsp; Given Population Mean 𝜇 = 18580 kms\n",
    "<br>&emsp;&emsp;&emsp;&emsp;&emsp; Sample Mean ${\\bar x}$ = 17352 kms\n",
    "<br>&emsp;&emsp;&emsp;&emsp;&emsp; Sample SD = ${\\sigma}$ = 2012 kms\n",
    "<br>&emsp;&emsp;&emsp;&emsp;&emsp; Sample Size n = 10"
   ]
  },
  {
   "cell_type": "code",
   "execution_count": 35,
   "metadata": {},
   "outputs": [
    {
     "name": "stdout",
     "output_type": "stream",
     "text": [
      "The t Test Statistics value = 1.93\n",
      "The P-Value = 0.043\n",
      "The t Critical Value at alpha : 0.05 is = 1.833\n",
      "The t Critical Value at alpha : 0.01 is = 2.821\n",
      "95% Confidence Interval = [16185.753, 18518.247]\n",
      "99% Confidence Interval = [15557.138, 19146.862]\n"
     ]
    }
   ],
   "source": [
    "mu = 18580\n",
    "x_bar = 17352\n",
    "sd = 2012\n",
    "n = 10\n",
    "alpha1 = 0.05\n",
    "alpha2 = 0.01\n",
    "df = n-1\n",
    "#### Standard error calculation\n",
    "SE = sd/(n**0.5)\n",
    "#### t statistical value calculation\n",
    "t_Stats = round((mu - x_bar)/SE, 3)\n",
    "print(f'The t Test Statistics value = {t_Stats}')\n",
    "#### P-value calculation\n",
    "print(f'The P-Value = {scipy.stats.t.sf(t_Stats, n-1).round(3)}')\n",
    "#### t Critical Value at alpha = 0.05\n",
    "t_Crit_1 = scipy.stats.t.ppf(1-alpha1, df).round(3)\n",
    "print(f'The t Critical Value at alpha : 0.05 is = {t_Crit_1}')\n",
    "#### t Critical Value at alpha = 0.01\n",
    "t_Crit_2 = scipy.stats.t.ppf(1-alpha2, df).round(3)\n",
    "print(f'The t Critical Value at alpha : 0.01 is = {t_Crit_2}')\n",
    "#### 95% Confidence Interval \n",
    "CI_Lower_1 = round(x_bar-(t_Crit_1*SE), 3)\n",
    "CI_Upper_1 = round(x_bar+(t_Crit_1*SE), 3)\n",
    "print(f'95% Confidence Interval = {[CI_Lower_1, CI_Upper_1]}')\n",
    "#### 99% Confidence Interval\n",
    "CI_Lower_2 = round(x_bar-(t_Crit_2*SE), 3)\n",
    "CI_Upper_2 = round(x_bar+(t_Crit_2*SE), 3)\n",
    "print(f'99% Confidence Interval = {[CI_Lower_2, CI_Upper_2]}')"
   ]
  },
  {
   "cell_type": "markdown",
   "metadata": {},
   "source": [
    "<br>&emsp;**STEP-5:Conclusion :**"
   ]
  },
  {
   "cell_type": "code",
   "execution_count": 36,
   "metadata": {},
   "outputs": [
    {
     "name": "stdout",
     "output_type": "stream",
     "text": [
      "At Critical Value alpha = 0.05, Reject 𝐻0 and Accept H1\n",
      "At Critical Value alpha = 0.01, Accept 𝐻0 and Reject H1\n"
     ]
    }
   ],
   "source": [
    "print('At Critical Value alpha = 0.05',end=', ')\n",
    "if(z_Stats<z_Crit_1):\n",
    "    print('Accept 𝐻0 and Reject H1')\n",
    "else:\n",
    "    print('Reject 𝐻0 and Accept H1')\n",
    "print('At Critical Value alpha = 0.01',end=', ')\n",
    "if(z_Stats<z_Crit_2):\n",
    "    print('Accept 𝐻0 and Reject H1')\n",
    "else:\n",
    "    print('Reject 𝐻0 and Accept H1')"
   ]
  },
  {
   "cell_type": "markdown",
   "metadata": {},
   "source": [
    "***\n",
    "\n",
    "#### Unpaired Testing difference between means of two populations :\n",
    "* ${H_0:\\mu_1=\\mu_2}\\ \\ vs \\ \\ {H_1:\\mu_1<\\mu_2}$\n",
    "<br>&emsp;&emsp;&emsp;&emsp;&emsp;&emsp;&emsp;or  ${H_1:\\mu_1>\\mu_2}$\n",
    "<br>&emsp;&emsp;&emsp;&emsp;&emsp;&emsp;&emsp;or  ${H_1:\\mu_1\\neq \\mu_2}$\n",
    "* ${t} = {\\frac{\\bar x_1-\\bar x_2}{\\sqrt{\\frac{S_1^2}{n_1}+\\frac{S_2^2}{n_2}}}}{\\cong}{t_{(\\alpha,n_1+n_2-2)}}$"
   ]
  },
  {
   "cell_type": "markdown",
   "metadata": {},
   "source": [
    "#### Examples :\n",
    "**1. The manager of a courier service believes that packets delivered at the end of the month are heavier than those delivered early in the month. As an experiment, he weighed a random sample of 20 packets at the beginning of the month and found that the mean weight was 5.25 kg. A randomly selected 10 packets at the end of the month had a mean weight of 4.96 kg. The respective sample standard deviations are 1.20 kg and 1.15 kg. At 5% level of significance, can it be concluded that the packets delivered at the end of the month weigh more? Also find Pvalue and 95% confidence interval for the difference between the means.**"
   ]
  },
  {
   "cell_type": "markdown",
   "metadata": {},
   "source": [
    "**A. \n",
    "<br>&emsp;STEP-1:State null and alternative hypothesis** :\n",
    "<br>&emsp;&emsp;${H_0}$ = The mean weight of packets delivered at the early\n",
    "in the month and at the end of month may be same.\n",
    "<br>&emsp;&emsp;&emsp;&emsp; ${H_0:\\mu_1=\\mu_2}$\n",
    "<br>&emsp;&emsp;${H_1}$ =The mean weight of packets delivered at the\n",
    "end of the month may be higher than at the\n",
    "early of month\n",
    "<br>&emsp;&emsp;&emsp;&emsp; ${H_1:\\mu_1>\\mu_2}$\n",
    "<br>&emsp;**STEP-2:Specify the level of significance  𝛼** :\n",
    "<br>&emsp;&emsp;&emsp;&emsp; 𝛼 = 0.05\n",
    "<br>&emsp;**STEP-3:Define the Probability distribution the data follows :**\n",
    "<br>&emsp;&emsp; The sample size n is less than 30 i.e., t-test\n",
    "<br>&emsp;**STEP-4:Compute the test statistics based defined population :**\n",
    "<br>&emsp;&emsp; Given \n",
    "<br>&emsp;&emsp;&emsp; For Sample-1\n",
    "<br>&emsp;&emsp;&emsp;&emsp; Sample Size n1 = 20\n",
    "<br>&emsp;&emsp;&emsp;&emsp; Sample mean ${\\bar x_1}$ = 5.25 kg\n",
    "<br>&emsp;&emsp;&emsp;&emsp; Sample SD ${\\sigma_1}$ = 1.20 kg\n",
    "<br>&emsp;&emsp;&emsp; For Sample-2\n",
    "<br>&emsp;&emsp;&emsp;&emsp; Sample Size n2 = 10\n",
    "<br>&emsp;&emsp;&emsp;&emsp; Sample mean ${\\bar x_2}$ = 4.96 kg\n",
    "<br>&emsp;&emsp;&emsp;&emsp; Sample SD ${\\sigma_2}$ = 1.15 kg"
   ]
  },
  {
   "cell_type": "code",
   "execution_count": 37,
   "metadata": {},
   "outputs": [
    {
     "name": "stdout",
     "output_type": "stream",
     "text": [
      "The t Test Statistics value = 0.642\n",
      "The P-Value = 0.263\n",
      "The t Critical Value at alpha : 0.05 is = 1.701\n",
      "95% Confidence Interval = [-0.479, 1.059]\n"
     ]
    }
   ],
   "source": [
    "n1 = 20\n",
    "x_bar_1 = 5.25\n",
    "sigma1 = 1.20\n",
    "n2 = 10\n",
    "x_bar_2 = 4.96\n",
    "sigma2 = 1.15\n",
    "alpha = 0.05\n",
    "df = n1+n2-2\n",
    "#### Standard error calculation\n",
    "SE = ((sigma1**2/n1)+(sigma2**2/n2))**0.5\n",
    "#### t statistical value calculation\n",
    "t_Stats = round(((x_bar_1-x_bar_2)/SE), 3)\n",
    "print(f'The t Test Statistics value = {t_Stats}')\n",
    "#### P-value calculation\n",
    "print(f'The P-Value = {scipy.stats.t.sf(t_Stats, df).round(3)}')\n",
    "#### t Critical Value at alpha = 0.05\n",
    "t_Crit = scipy.stats.t.ppf(1-alpha, df).round(3)\n",
    "print(f'The t Critical Value at alpha : 0.05 is = {t_Crit}')\n",
    "#### 95% Confidence Interval \n",
    "CI_Lower = round((x_bar_1-x_bar_2)-(t_Crit*SE), 3)\n",
    "CI_Upper = round((x_bar_1-x_bar_2)+(t_Crit*SE), 3)\n",
    "print(f'95% Confidence Interval = {[CI_Lower, CI_Upper]}')"
   ]
  },
  {
   "cell_type": "markdown",
   "metadata": {},
   "source": [
    "<br>&emsp;**STEP-5:Conclusion :**"
   ]
  },
  {
   "cell_type": "code",
   "execution_count": 38,
   "metadata": {},
   "outputs": [
    {
     "name": "stdout",
     "output_type": "stream",
     "text": [
      "Accept 𝐻0 and Reject H1\n"
     ]
    }
   ],
   "source": [
    "if(t_Stats<t_Crit):\n",
    "    print('Accept 𝐻0 and Reject H1')\n",
    "else:\n",
    "    print('Reject 𝐻0 and Accept H1')"
   ]
  },
  {
   "cell_type": "markdown",
   "metadata": {},
   "source": [
    "***\n",
    "\n",
    "#### Paired Testing mean of single population :\n",
    "* Testing mean before and after observations of a single population\n",
    "* ${H_0:\\mu_d = 0}\\ \\ vs \\ \\ {H_1:\\mu_d<0}$\n",
    "<br>&emsp;&emsp;&emsp;&emsp;&emsp;&emsp;&emsp;or  ${H_1:\\mu_d>0}$\n",
    "<br>&emsp;&emsp;&emsp;&emsp;&emsp;&emsp;&emsp;or  ${H_1:\\mu_d\\neq 0}$\n",
    "* ${t}={\\frac{\\bar d-\\mu_d}{\\frac{s_d}{\\sqrt n}}}{\\cong}{t_{(\\alpha,n-1)}}$\n",
    "* But ${\\mu_d}$ under ${H_0}$ is zero."
   ]
  },
  {
   "cell_type": "markdown",
   "metadata": {},
   "source": [
    "#### Examples :\n",
    "**1. The pulse rate of 8 persons were measured before and after administration of a drug. The results are as follows: Test at 5% level of significance whether there is any increase in pulse rate?**\n",
    "\n",
    "|Subjects|Before (x)| After(y)|\n",
    "|---|---|---|\n",
    "|1|58|66|\n",
    "|2|65|69|\n",
    "|3|68|75|\n",
    "|4|70|68|\n",
    "|5|66|73|\n",
    "|6|75|75|\n",
    "|7|62|68|\n",
    "|8|72|69|"
   ]
  },
  {
   "cell_type": "markdown",
   "metadata": {},
   "source": [
    "**A. \n",
    "<br>&emsp;STEP-1:State null and alternative hypothesis** :\n",
    "<br>&emsp;&emsp;${H_0}$ = There is no pulse rate differnce between Before and After drug\n",
    "<br>&emsp;&emsp;&emsp;&emsp; ${H_0:\\mu_d=0}$\n",
    "<br>&emsp;&emsp;${H_1}$ = There is a increase in pulse rate after drug\n",
    "<br>&emsp;&emsp;&emsp;&emsp; ${H_1:\\mu_d>0}$\n",
    "<br>&emsp;**STEP-2:Specify the level of significance  𝛼** :\n",
    "<br>&emsp;&emsp;&emsp;&emsp; 𝛼 = 0.05\n",
    "<br>&emsp;**STEP-3:Define the Probability distribution the data follows :**\n",
    "<br>&emsp;&emsp; The sample size is less than 30 i.e., t-test.\n",
    "<br>&emsp;**STEP-4:Compute the test statistics based defined population :**\n"
   ]
  },
  {
   "cell_type": "code",
   "execution_count": 39,
   "metadata": {},
   "outputs": [
    {
     "name": "stdout",
     "output_type": "stream",
     "text": [
      "The t Test Statistics value = 2.167\n",
      "The P-Value = 0.033\n",
      "The t Critical Value at alpha : 0.05 is = 1.895\n",
      "95% Confidence Interval = [0.423, 6.327]\n"
     ]
    }
   ],
   "source": [
    "data = pd.DataFrame({'x':[58, 65, 68, 70, 66, 75, 62, 72],'y':[66, 69, 75, 68, 73, 75, 68,69]})\n",
    "data['d'] = data['y'] - data['x']\n",
    "data['(d-d_bar)**2'] = (data['d']-data['d'].mean())**2\n",
    "df = len(data)-1\n",
    "Sd = (data['(d-d_bar)**2'].sum()/df)**0.5\n",
    "#### Standard error calculation\n",
    "SE = Sd/(len(data))**0.5\n",
    "#### t statistical value calculation\n",
    "t_Stats = round(data['d'].mean()/SE, 3)\n",
    "print(f'The t Test Statistics value = {t_Stats}')\n",
    "#### P-value calculation\n",
    "print(f'The P-Value = {scipy.stats.t.sf(t_Stats, df).round(3)}')\n",
    "#### t Critical Value at alpha = 0.05\n",
    "t_Crit = scipy.stats.t.ppf(1-alpha, df).round(3)\n",
    "print(f'The t Critical Value at alpha : 0.05 is = {t_Crit}')\n",
    "#### 95% Confidence Interval \n",
    "CI_Lower = round(data['d'].mean()-(t_Crit*SE), 3)\n",
    "CI_Upper = round(data['d'].mean()+(t_Crit*SE), 3)\n",
    "print(f'95% Confidence Interval = {[CI_Lower, CI_Upper]}')"
   ]
  },
  {
   "cell_type": "markdown",
   "metadata": {},
   "source": [
    "<br>&emsp;**STEP-5:Conclusion :**"
   ]
  },
  {
   "cell_type": "code",
   "execution_count": 40,
   "metadata": {},
   "outputs": [
    {
     "name": "stdout",
     "output_type": "stream",
     "text": [
      "Reject 𝐻0 and Accept H1\n"
     ]
    }
   ],
   "source": [
    "if(t_Stats<t_Crit):\n",
    "    print('Accept 𝐻0 and Reject H1')\n",
    "else:\n",
    "    print('Reject 𝐻0 and Accept H1')"
   ]
  },
  {
   "cell_type": "markdown",
   "metadata": {},
   "source": [
    "*** \n",
    "\n",
    "### Fishers F-test\n",
    "* Testing the ratio of two population variances\n",
    "* **Assumptions :**\n",
    "    - Samples are drawn from normal distribution.\n",
    "    - The Population variances should be equal.\n",
    "    - Subjects should be allocated randomly to both groups. \n",
    "* * ${H_0:\\sigma_1^2 = \\sigma_2^2}\\ \\ vs \\ \\ {H_1:\\sigma_1^2<\\sigma_2^2}$\n",
    "<br>&emsp;&emsp;&emsp;&emsp;&emsp;&emsp;&emsp;or  ${H_1:\\sigma_1^2>\\sigma_2^2}$\n",
    "<br>&emsp;&emsp;&emsp;&emsp;&emsp;&emsp;&emsp;or  ${H_1:\\sigma_1^2\\neq \\sigma_2^2}$\n",
    "*${F}={\\frac{S_1^2}{S_2^2}}{\\cong}{F_{(\\alpha, n_1-1, n_2-1)}}$"
   ]
  },
  {
   "cell_type": "markdown",
   "metadata": {},
   "source": [
    "##### Examples :\n",
    "**1. The variability in the amount of impurities present in a batch of chemicals used for a particular process depends on the length of time that the process is in operation. Suppose a sample of size 25 is drawn from the normal process which is to be compared to a sample of a new process that has been developed to reduce the variability of impurities. Test at 5% whether the variability in the new process is less as compared to the original process.**\n",
    "\n",
    "||Sample 1|Sample 2|\n",
    "|---|---|---|\n",
    "|n|25|25|\n",
    "|Sample Variance|1.04|0.51|"
   ]
  },
  {
   "cell_type": "markdown",
   "metadata": {},
   "source": [
    "**A. \n",
    "<br>&emsp;STEP-1:State null and alternative hypothesis** :\n",
    "<br>&emsp;&emsp;${H_0}$ = The variability in the new process is equal as compared to\n",
    "the original process.\n",
    "<br>&emsp;&emsp;&emsp;&emsp; ${H_0:\\sigma_1^2=\\sigma_2^2}$\n",
    "<br>&emsp;&emsp;${H_1}$ = the variability in the new process is less as compared to\n",
    "the original process.\n",
    "<br>&emsp;&emsp;&emsp;&emsp; ${H_1:\\sigma_1^2>\\sigma_2^2}$\n",
    "<br>&emsp;**STEP-2:Specify the level of significance  𝛼** :\n",
    "<br>&emsp;&emsp;&emsp;&emsp; 𝛼 = 0.05\n",
    "<br>&emsp;**STEP-3:Define the Probability distribution the data follows :**\n",
    "<br>&emsp;&emsp; Comparing of two population varaiances i.e., F-test\n",
    "<br>&emsp;**STEP-4:Compute the test statistics based defined population :**\n"
   ]
  },
  {
   "cell_type": "code",
   "execution_count": 41,
   "metadata": {},
   "outputs": [
    {
     "name": "stdout",
     "output_type": "stream",
     "text": [
      "The F Statistic value = 2.039\n",
      "The P value calculation = 0.0437\n",
      "The F Critical Value at alpha : 0.05 is = 1.984\n"
     ]
    }
   ],
   "source": [
    "variance_1 = 1.04\n",
    "variance_2 = 0.51\n",
    "n1 = 25\n",
    "n2 = 25\n",
    "df1 = n1-1\n",
    "df2 = n2-1\n",
    "#### F Statistic Value calculation\n",
    "F_Stats = round(variance_1/variance_2, 3)\n",
    "print(f'The F Statistic value = {F_Stats}')\n",
    "#### P-Value calculation\n",
    "print(f'The P value calculation = {(1-scipy.stats.f.cdf(F_Stats, df1, df2)).round(4)}')\n",
    "#### F Crititcal value calculation\n",
    "F_Crit = scipy.stats.f.ppf(1-alpha, df1, df2).round(3)\n",
    "print(f'The F Critical Value at alpha : 0.05 is = {F_Crit}')"
   ]
  },
  {
   "cell_type": "markdown",
   "metadata": {},
   "source": [
    "<br>&emsp;**STEP-5:Conclusion :**"
   ]
  },
  {
   "cell_type": "code",
   "execution_count": 42,
   "metadata": {},
   "outputs": [
    {
     "name": "stdout",
     "output_type": "stream",
     "text": [
      "Reject 𝐻0 and Accept H1\n"
     ]
    }
   ],
   "source": [
    "if(F_Stats<F_Crit):\n",
    "    print('Accept 𝐻0 and Reject H1')\n",
    "else:\n",
    "    print('Reject 𝐻0 and Accept H1')"
   ]
  },
  {
   "cell_type": "markdown",
   "metadata": {},
   "source": [
    "***\n",
    "\n",
    "### Anova\n",
    "* When there are more than two groups to be compared, it is not correct to compare the groups in pairs, as this type of comparison will not take the within variability into consideration. The Analysis procedure used in such comparisons is known as ANALYSIS OF VARIANCE\n",
    "* **Assumptions of Anova :**\n",
    "    - Samples are drawn from normal distribution.\n",
    "    - The population variance should be equal.\n",
    "    - The sample size should be less than 30 (n<30).\n",
    "    - Groups should be independent.\n",
    "    - Subjects should be allocated randomly to both groups.\n",
    "* **Types of Anova :**\n",
    "    - One Way Anova\n",
    "    - Two Way Anova\n",
    "* If H0 is rejected, then further mean differences between any two groups should be tested using Post-hoc tests. Following are different Post-hoc tests. \n",
    "    - Bonferroni’s test\n",
    "    - Tucky’s HSD test\n",
    "    - Schaeffe’s test\n",
    "    - Duncan’s test\n",
    "    - Least Significant Difference (LSD) test"
   ]
  },
  {
   "cell_type": "markdown",
   "metadata": {},
   "source": [
    "***\n",
    "\n",
    "#### One Way Anova :\n",
    "##### Examples : \n",
    "**1. A clinical trial Iron intake of four groups of patients (mg)**\n",
    "\n",
    "|Group1|Group2|Group3|Group4|\n",
    "|---|---|---|---|\n",
    "|11.5|19.5|18.5|30.0|\n",
    "|12.5|18.5|16.5|26.5|\n",
    "|18.5|16.0|24.5|27.0|\n",
    "|21.0|22.0|30.0|34.0|\n",
    "|28.0|30.0|28.5|20.0|\n",
    "|26.0|24.5|14.0|22.5|\n",
    "|14.0|19.0|19.0|28.0|\n",
    "|22.0|24.0|17.0|32.0|\n",
    "|20.0|19.5|18.0|27.0|\n",
    "|22.0|15.0|29.0|25.5|\n",
    "\n",
    "**Test at 5% level of significance is there any significant difference in mean iron intake among four groups of patients? Also test if significant, which group means have contributed to the difference in means using LSD test**"
   ]
  },
  {
   "cell_type": "markdown",
   "metadata": {},
   "source": [
    "**A. \n",
    "<br>&emsp;STEP-1:State null and alternative hypothesis** :\n",
    "<br>&emsp;&emsp;${H_0}$ = Mean Iron intake among four groups of patients are equal\n",
    "<br>&emsp;&emsp;&emsp;&emsp; ${H_0:\\mu_1=\\mu_2=\\mu_3=\\mu_4}$\n",
    "<br>&emsp;&emsp;${H_1}$ = Mean Iron intake among four groups of patients are not equal\n",
    "<br>&emsp;&emsp;&emsp;&emsp; ${H_1:\\mu_1\\neq\\mu_2\\neq\\mu_3\\neq\\mu_4}$\n",
    "<br>&emsp;**STEP-2:Specify the level of significance  𝛼** :\n",
    "<br>&emsp;&emsp;&emsp;&emsp; 𝛼 = 0.05\n",
    "<br>&emsp;**STEP-3:Define the Probability distribution the data follows :**\n",
    "<br>&emsp;&emsp; The no of groups are more than 2 and sample size is less than 30 i.e., Anova\n",
    "<br>&emsp;**STEP-4:Compute the test statistics based defined population :**\n"
   ]
  },
  {
   "cell_type": "code",
   "execution_count": 43,
   "metadata": {},
   "outputs": [
    {
     "data": {
      "text/html": [
       "<div>\n",
       "<style scoped>\n",
       "    .dataframe tbody tr th:only-of-type {\n",
       "        vertical-align: middle;\n",
       "    }\n",
       "\n",
       "    .dataframe tbody tr th {\n",
       "        vertical-align: top;\n",
       "    }\n",
       "\n",
       "    .dataframe thead th {\n",
       "        text-align: right;\n",
       "    }\n",
       "</style>\n",
       "<table border=\"1\" class=\"dataframe\">\n",
       "  <thead>\n",
       "    <tr style=\"text-align: right;\">\n",
       "      <th></th>\n",
       "      <th>Group1</th>\n",
       "      <th>Group2</th>\n",
       "      <th>Group3</th>\n",
       "      <th>Group4</th>\n",
       "    </tr>\n",
       "  </thead>\n",
       "  <tbody>\n",
       "    <tr>\n",
       "      <th>0</th>\n",
       "      <td>11.5</td>\n",
       "      <td>19.5</td>\n",
       "      <td>18.5</td>\n",
       "      <td>30.0</td>\n",
       "    </tr>\n",
       "    <tr>\n",
       "      <th>1</th>\n",
       "      <td>12.5</td>\n",
       "      <td>18.5</td>\n",
       "      <td>16.5</td>\n",
       "      <td>26.5</td>\n",
       "    </tr>\n",
       "    <tr>\n",
       "      <th>2</th>\n",
       "      <td>18.5</td>\n",
       "      <td>16.0</td>\n",
       "      <td>24.5</td>\n",
       "      <td>27.0</td>\n",
       "    </tr>\n",
       "    <tr>\n",
       "      <th>3</th>\n",
       "      <td>21.0</td>\n",
       "      <td>22.0</td>\n",
       "      <td>30.0</td>\n",
       "      <td>34.0</td>\n",
       "    </tr>\n",
       "    <tr>\n",
       "      <th>4</th>\n",
       "      <td>28.0</td>\n",
       "      <td>30.0</td>\n",
       "      <td>28.5</td>\n",
       "      <td>20.0</td>\n",
       "    </tr>\n",
       "    <tr>\n",
       "      <th>5</th>\n",
       "      <td>26.0</td>\n",
       "      <td>24.5</td>\n",
       "      <td>14.0</td>\n",
       "      <td>22.5</td>\n",
       "    </tr>\n",
       "    <tr>\n",
       "      <th>6</th>\n",
       "      <td>14.0</td>\n",
       "      <td>19.0</td>\n",
       "      <td>19.0</td>\n",
       "      <td>28.0</td>\n",
       "    </tr>\n",
       "    <tr>\n",
       "      <th>7</th>\n",
       "      <td>22.0</td>\n",
       "      <td>24.0</td>\n",
       "      <td>17.0</td>\n",
       "      <td>32.0</td>\n",
       "    </tr>\n",
       "    <tr>\n",
       "      <th>8</th>\n",
       "      <td>20.0</td>\n",
       "      <td>19.5</td>\n",
       "      <td>18.0</td>\n",
       "      <td>27.0</td>\n",
       "    </tr>\n",
       "    <tr>\n",
       "      <th>9</th>\n",
       "      <td>22.0</td>\n",
       "      <td>15.0</td>\n",
       "      <td>29.0</td>\n",
       "      <td>25.5</td>\n",
       "    </tr>\n",
       "  </tbody>\n",
       "</table>\n",
       "</div>"
      ],
      "text/plain": [
       "   Group1  Group2  Group3  Group4\n",
       "0    11.5    19.5    18.5    30.0\n",
       "1    12.5    18.5    16.5    26.5\n",
       "2    18.5    16.0    24.5    27.0\n",
       "3    21.0    22.0    30.0    34.0\n",
       "4    28.0    30.0    28.5    20.0\n",
       "5    26.0    24.5    14.0    22.5\n",
       "6    14.0    19.0    19.0    28.0\n",
       "7    22.0    24.0    17.0    32.0\n",
       "8    20.0    19.5    18.0    27.0\n",
       "9    22.0    15.0    29.0    25.5"
      ]
     },
     "execution_count": 43,
     "metadata": {},
     "output_type": "execute_result"
    }
   ],
   "source": [
    "data = pd.DataFrame({'Group1' : [11.5, 12.5, 18.5, 21.0, 28.0, 26.0, 14.0, 22.0, 20.0, 22.0],\n",
    "                     'Group2' : [19.5, 18.5, 16.0, 22.0, 30.0, 24.5, 19.0, 24.0, 19.5, 15.0],\n",
    "                     'Group3' : [18.5, 16.5, 24.5, 30.0, 28.5, 14.0, 19.0, 17.0, 18.0, 29.0],\n",
    "                     'Group4' : [30.0, 26.5, 27.0, 34.0, 20.0, 22.5, 28.0, 32.0, 27.0, 25.5]\n",
    "                    })\n",
    "data"
   ]
  },
  {
   "cell_type": "code",
   "execution_count": 44,
   "metadata": {},
   "outputs": [
    {
     "data": {
      "text/plain": [
       "<matplotlib.legend.Legend at 0x2015c72efc8>"
      ]
     },
     "execution_count": 44,
     "metadata": {},
     "output_type": "execute_result"
    },
    {
     "data": {
      "image/png": "[encoded data removed]",
      "text/plain": [
       "<Figure size 864x360 with 1 Axes>"
      ]
     },
     "metadata": {
      "needs_background": "light"
     },
     "output_type": "display_data"
    }
   ],
   "source": [
    "# A distplot plots a univariate distribution of observations\n",
    "#checking wheather data is distributed normally or not\n",
    "plt.figure(figsize=(12,5))\n",
    "ax1 = sns.distplot(data['Group1'])\n",
    "ax2 = sns.distplot(data['Group2'])\n",
    "ax3 = sns.distplot(data['Group3'])\n",
    "ax4 = sns.distplot(data['Group4'])\n",
    "plt.axvline(np.mean(data['Group1']), color = 'b', linestyle = 'dashed', label = 'Group1')\n",
    "plt.axvline(np.mean(data['Group2']), color = 'orange', linestyle = 'dashed', label = 'Group2')\n",
    "plt.axvline(np.mean(data['Group3']), color = 'green', linestyle = 'dashed', label = 'Group3')\n",
    "plt.axvline(np.mean(data['Group4']), color = 'red', linestyle = 'dashed', label = 'Group4')\n",
    "plt.legend()"
   ]
  },
  {
   "cell_type": "markdown",
   "metadata": {},
   "source": [
    "* From the above graph we can say there is a huge difference between Group-4 and remaining Groups"
   ]
  },
  {
   "cell_type": "code",
   "execution_count": 45,
   "metadata": {},
   "outputs": [
    {
     "name": "stdout",
     "output_type": "stream",
     "text": [
      "F statistic = 4.544 and probability p = 0.008\n",
      "Reject the null hypothesis\n"
     ]
    }
   ],
   "source": [
    "#### Applying one way anova \n",
    "F, p = scipy.stats.f_oneway(data['Group1'], data['Group2'], data['Group3'], data['Group4'])\n",
    "print('F statistic = {:.3f} and probability p = {:.3f}'.format(F, p)) \n",
    "if(p<0.05):\n",
    "    print('Reject the null hypothesis')\n",
    "else:\n",
    "    print('Failed to reject the null hypothesis')"
   ]
  },
  {
   "cell_type": "markdown",
   "metadata": {},
   "source": [
    "* Applying Least significant difference (LSD) test\n",
    "<br>&emsp;&emsp;${LSD} = {t_\\alpha}{\\sqrt{\\frac{2S^2}{k}}}$\n",
    "<br>Where \n",
    "<br>&emsp;S = Mean sum of squares with in groups = $\\frac{\\sum_{g\\in G}(x-\\bar x_g)^2}{n-k}$"
   ]
  },
  {
   "cell_type": "code",
   "execution_count": 46,
   "metadata": {},
   "outputs": [
    {
     "name": "stdout",
     "output_type": "stream",
     "text": [
      "least significant difference = 4.59\n",
      "Group1 mean = 19.55\n",
      "Group2 mean = 20.8\n",
      "Group3 mean = 21.5\n",
      "Group4 mean = 27.25\n"
     ]
    }
   ],
   "source": [
    "#### LSD TEST\n",
    "#### Calculating Mean sum of squares with in groups\n",
    "a = ((data['Group1']-data['Group1'].mean())**2).sum()\n",
    "b = ((data['Group2']-data['Group2'].mean())**2).sum()\n",
    "c = ((data['Group3']-data['Group3'].mean())**2).sum()\n",
    "d = ((data['Group4']-data['Group4'].mean())**2).sum()\n",
    "S = (a+b+c+d)/36\n",
    "alpha = 0.05/2\n",
    "#### t Critical Value at alpha = 0.05\n",
    "t_Crit = scipy.stats.t.ppf(1-alpha, 36).round(3)\n",
    "#### Calculating least significant difference\n",
    "LSD = round(t_Crit*(((2*S)/10)**0.5),2)\n",
    "print(f'least significant difference = {LSD}')\n",
    "print(f'Group1 mean = {data[\"Group1\"].mean()}')\n",
    "print(f'Group2 mean = {data[\"Group2\"].mean()}')\n",
    "print(f'Group3 mean = {data[\"Group3\"].mean()}')\n",
    "print(f'Group4 mean = {data[\"Group4\"].mean()}')"
   ]
  },
  {
   "cell_type": "markdown",
   "metadata": {},
   "source": [
    "<br>&emsp;**STEP-5:Conclusion :**\n",
    "<br>&emsp;&emsp;It can be seen that only the difference between Group 4 is different from other groups as only this difference is more than 4.59. Hence, Group 4 makes the difference in significance."
   ]
  },
  {
   "cell_type": "markdown",
   "metadata": {},
   "source": [
    "***\n",
    "\n",
    "#### Two Way Anova :\n",
    "##### Examples :\n",
    "**1. A clinical trial Iron intake of four groups of patients (mg). Test at 5% level of significance is there any significant difference in mean iron intake among ten groups of patients as well as between three trimesters? Also test if significant, which group means have contributed to the difference in means using LSD test**\n",
    "\n",
    "|Trimester|G1|G2|G3|G4|G5|G6|G7|G8|G9|G10|\n",
    "|---|---|---|---|---|---|---|---|---|---|---|\n",
    "|I|11.5|19.5|18.5|12.5|18.5|16.5|26.5|18.5|16.0|24.5|\n",
    "|II|27.0|28.0|22.0|21.0|15.0|19.5|20.0|26.0|30.0|28.5|\n",
    "|III|28.0|30.0|26.0|30.0|24.5|28.5|26.0|30.0|27.0|25.5|"
   ]
  },
  {
   "cell_type": "markdown",
   "metadata": {},
   "source": [
    "**A. \n",
    "<br>&emsp;STEP-1:State null and alternative hypothesis** :\n",
    "<br>&emsp; Between Groups       \n",
    "<br>&emsp;&emsp;${H_0}$ = Mean difference between 10 groups are equal\n",
    "<br>&emsp;&emsp;${H_1}$ = Mean difference between 10 groups are not equal\n",
    "<br>&emsp; Between Trimesters       \n",
    "<br>&emsp;&emsp;${H_0}$ = Mean difference between 3 trimesters are equal\n",
    "<br>&emsp;&emsp;${H_1}$ = Mean difference between 3 trimesters are not equal\n",
    "<br>&emsp;**STEP-2:Specify the level of significance  𝛼** :\n",
    "<br>&emsp;&emsp;&emsp;&emsp; 𝛼 = 0.05\n",
    "<br>&emsp;**STEP-3:Define the Probability distribution the data follows :**\n",
    "<br>&emsp;&emsp; The no of groups are more than 2 and sample size is less than 30 i.e., Anova\n",
    "<br>&emsp;**STEP-4:Compute the test statistics based defined population :**\n"
   ]
  },
  {
   "cell_type": "code",
   "execution_count": 47,
   "metadata": {},
   "outputs": [
    {
     "data": {
      "text/html": [
       "<div>\n",
       "<style scoped>\n",
       "    .dataframe tbody tr th:only-of-type {\n",
       "        vertical-align: middle;\n",
       "    }\n",
       "\n",
       "    .dataframe tbody tr th {\n",
       "        vertical-align: top;\n",
       "    }\n",
       "\n",
       "    .dataframe thead th {\n",
       "        text-align: right;\n",
       "    }\n",
       "</style>\n",
       "<table border=\"1\" class=\"dataframe\">\n",
       "  <thead>\n",
       "    <tr style=\"text-align: right;\">\n",
       "      <th></th>\n",
       "      <th>TrimesterI</th>\n",
       "      <th>TrimesterII</th>\n",
       "      <th>TrimesterIII</th>\n",
       "    </tr>\n",
       "  </thead>\n",
       "  <tbody>\n",
       "    <tr>\n",
       "      <th>G1</th>\n",
       "      <td>11.5</td>\n",
       "      <td>27.0</td>\n",
       "      <td>28.0</td>\n",
       "    </tr>\n",
       "    <tr>\n",
       "      <th>G2</th>\n",
       "      <td>19.5</td>\n",
       "      <td>28.0</td>\n",
       "      <td>30.0</td>\n",
       "    </tr>\n",
       "    <tr>\n",
       "      <th>G3</th>\n",
       "      <td>18.5</td>\n",
       "      <td>22.0</td>\n",
       "      <td>26.0</td>\n",
       "    </tr>\n",
       "    <tr>\n",
       "      <th>G4</th>\n",
       "      <td>12.5</td>\n",
       "      <td>21.0</td>\n",
       "      <td>30.0</td>\n",
       "    </tr>\n",
       "    <tr>\n",
       "      <th>G5</th>\n",
       "      <td>18.5</td>\n",
       "      <td>15.0</td>\n",
       "      <td>24.5</td>\n",
       "    </tr>\n",
       "    <tr>\n",
       "      <th>G6</th>\n",
       "      <td>16.5</td>\n",
       "      <td>19.5</td>\n",
       "      <td>28.5</td>\n",
       "    </tr>\n",
       "    <tr>\n",
       "      <th>G7</th>\n",
       "      <td>26.5</td>\n",
       "      <td>20.0</td>\n",
       "      <td>26.0</td>\n",
       "    </tr>\n",
       "    <tr>\n",
       "      <th>G8</th>\n",
       "      <td>18.5</td>\n",
       "      <td>26.0</td>\n",
       "      <td>30.0</td>\n",
       "    </tr>\n",
       "    <tr>\n",
       "      <th>G9</th>\n",
       "      <td>16.0</td>\n",
       "      <td>30.0</td>\n",
       "      <td>27.0</td>\n",
       "    </tr>\n",
       "    <tr>\n",
       "      <th>G10</th>\n",
       "      <td>24.5</td>\n",
       "      <td>28.5</td>\n",
       "      <td>25.5</td>\n",
       "    </tr>\n",
       "  </tbody>\n",
       "</table>\n",
       "</div>"
      ],
      "text/plain": [
       "     TrimesterI  TrimesterII  TrimesterIII\n",
       "G1         11.5         27.0          28.0\n",
       "G2         19.5         28.0          30.0\n",
       "G3         18.5         22.0          26.0\n",
       "G4         12.5         21.0          30.0\n",
       "G5         18.5         15.0          24.5\n",
       "G6         16.5         19.5          28.5\n",
       "G7         26.5         20.0          26.0\n",
       "G8         18.5         26.0          30.0\n",
       "G9         16.0         30.0          27.0\n",
       "G10        24.5         28.5          25.5"
      ]
     },
     "execution_count": 47,
     "metadata": {},
     "output_type": "execute_result"
    }
   ],
   "source": [
    "data = pd.DataFrame({'TrimesterI' : [11.5, 19.5, 18.5, 12.5, 18.5, 16.5, 26.5, 18.5, 16.0, 24.5],\n",
    "                     'TrimesterII' : [27.0, 28.0, 22.0, 21.0, 15.0, 19.5, 20.0, 26.0, 30.0, 28.5],\n",
    "                     'TrimesterIII' : [28.0, 30.0, 26.0, 30.0, 24.5, 28.5, 26.0, 30.0, 27.0, 25.5]},\n",
    "                   index = ['G1', 'G2', 'G3', 'G4', 'G5', 'G6', 'G7', 'G8', 'G9', 'G10'])\n",
    "data"
   ]
  },
  {
   "cell_type": "code",
   "execution_count": 48,
   "metadata": {},
   "outputs": [
    {
     "name": "stdout",
     "output_type": "stream",
     "text": [
      "For Trimester\n",
      "  F statistic Value = 12.53\n",
      "  F Critical Value = 3.555\n",
      "For Groups\n",
      "  F statistic Value = 0.86\n",
      "  F Critical Value = 2.456\n"
     ]
    }
   ],
   "source": [
    "#### Two-Way Anova\n",
    "T = data['TrimesterI'].sum()+data['TrimesterII'].sum()+data['TrimesterIII'].sum()\n",
    "SSC = (((data['TrimesterI'].sum())**2+(data['TrimesterII'].sum())**2+(data['TrimesterIII'].sum())**2)/10)-((T**2)/30)\n",
    "MSC = SSC/2\n",
    "SSR = (((data.loc['G1'].sum())**2+(data.loc['G2'].sum())**2+(data.loc['G3'].sum())**2+\n",
    "       (data.loc['G4'].sum())**2+(data.loc['G5'].sum())**2+(data.loc['G6'].sum())**2+\n",
    "      (data.loc['G7'].sum())**2+(data.loc['G8'].sum())**2+(data.loc['G9'].sum())**2+\n",
    "      (data.loc['G10'].sum())**2)/3)-((T**2)/30)\n",
    "MSR = SSR/9\n",
    "SST = ((data['TrimesterI']**2).sum()+(data['TrimesterII']**2).sum()+(data['TrimesterIII']**2).sum())-((T**2)/30)\n",
    "SSE = SST-SSR-SSC\n",
    "MSE = SSE/(2*9)\n",
    "FC = round(MSC/MSE, 2)\n",
    "FR = round(MSR/MSE, 2)\n",
    "alpha = 0.05\n",
    "print(f'For Trimester')\n",
    "print(f'  F statistic Value = {FC}')\n",
    "print(f'  F Critical Value = {scipy.stats.f.ppf(1-alpha, 2, 18).round(3)}')\n",
    "print(f'For Groups')\n",
    "print(f'  F statistic Value = {FR}')\n",
    "print(f'  F Critical Value = {scipy.stats.f.ppf(1-alpha, 9, 18).round(3)}')"
   ]
  },
  {
   "cell_type": "markdown",
   "metadata": {},
   "source": [
    "* The mean difference of trimester varies significantly (F=12.53 > F (0.05; 2, 18) = 3.55) and the mean group difference is not significant (F=0.86 > F (0.05; 9, 18) = 2.46).Carry out **Post-hoc test** for trimester"
   ]
  },
  {
   "cell_type": "code",
   "execution_count": 49,
   "metadata": {},
   "outputs": [
    {
     "name": "stdout",
     "output_type": "stream",
     "text": [
      "least significant difference = 3.74\n",
      "TrimesterI mean = 18.25\n",
      "TrimesterII mean = 23.7\n",
      "TrimesterIII mean = 27.55\n"
     ]
    }
   ],
   "source": [
    "#### LSD TEST\n",
    "#### Calculating Mean sum of squares with in groups\n",
    "a = ((data['TrimesterI']-data['TrimesterI'].mean())**2).sum()\n",
    "b = ((data['TrimesterII']-data['TrimesterII'].mean())**2).sum()\n",
    "c = ((data['TrimesterIII']-data['TrimesterIII'].mean())**2).sum()\n",
    "S = (a+b+c)/27\n",
    "alpha = 0.05/2\n",
    "#### t Critical Value at alpha = 0.05\n",
    "t_Crit = scipy.stats.t.ppf(1-alpha, 27).round(3)\n",
    "#### Calculating least significant difference\n",
    "LSD = round(t_Crit*(((2*S)/10)**0.5),2)\n",
    "print(f'least significant difference = {LSD}')\n",
    "print(f'TrimesterI mean = {data[\"TrimesterI\"].mean()}')\n",
    "print(f'TrimesterII mean = {data[\"TrimesterII\"].mean()}')\n",
    "print(f'TrimesterIII mean = {data[\"TrimesterIII\"].mean()}')"
   ]
  },
  {
   "cell_type": "markdown",
   "metadata": {},
   "source": [
    "* Difference between each trimester mean grouops are more than 3.75.No two trimester groups are equal"
   ]
  },
  {
   "cell_type": "markdown",
   "metadata": {},
   "source": [
    "<br>&emsp;**STEP-5:Conclusion :**\n",
    "* Mean difference between 10 groups are equal.\n",
    "* There is a significant difference between all 3 trimester groups."
   ]
  },
  {
   "cell_type": "markdown",
   "metadata": {},
   "source": [
    "*** \n",
    "\n",
    "### Chi-Square Test :\n",
    "* The Chi-Square test for 'Goodness of Fit' test claims about population proportion.\n",
    "* It is a non Parametric test that is performed on categorical (Nominal or Ordinal) data.\n",
    "* For the use of Chi-square test - The sample size should not be less than 20.\n",
    "* Calculation of expected frequency\n",
    "<br>&emsp;${E_1}={\\frac{r_1c_1}{n}}$,&emsp;${E_2}={\\frac{r_1c_2}{n}}$,&emsp;${E_3}={\\frac{r_2c_1}{n}}$,&emsp;${E_4}={\\frac{r_2c_2}{n}}$\n",
    "<br>&emsp;${\\chi^2}={\\sum_{i=1}^k}{\\frac{(O_i-E_i)^2}{E_i}}{\\approx}{\\chi_{(\\alpha,r-1,c-1)}^2}$\n",
    "<br>&emsp;Where\n",
    "<br>&emsp;&emsp; k = r*c = Total number of cells\n",
    "<br>&emsp;&emsp; r = Total no.of rows\n",
    "<br>&emsp;&emsp; c = Total no.of columns"
   ]
  },
  {
   "cell_type": "markdown",
   "metadata": {},
   "source": [
    "#### Examples:\n",
    "**1. Three pension plans Independent of job classification Use α = 0.05. The opinion of a random sample of 500 employees are shown below**\n",
    "\n",
    "|Job Classification|Pension plan 1|Pension plan 2|Pension plan 3|Total|\n",
    "|---|---|---|---|---|\n",
    "|Salaried Workers|166|86|68|320|\n",
    "|Hourly Workers|84|64|32|180|\n",
    "|Total|250|150|100|500|"
   ]
  },
  {
   "cell_type": "markdown",
   "metadata": {},
   "source": [
    "**A. \n",
    "<br>&emsp;STEP-1:State null and alternative hypothesis** :\n",
    "<br>&emsp;&emsp;${H_0}$ = Job satisfaction and pension plan are independently distributed\n",
    "<br>&emsp;&emsp;${H_1}$ = Job satisfaction and pension plan are not independently distributed\n",
    "<br>&emsp;**STEP-2:Specify the level of significance  𝛼** :\n",
    "<br>&emsp;&emsp;&emsp;&emsp; 𝛼 = 0.05\n",
    "<br>&emsp;**STEP-3:Calculate Degree of Freedom :**\n",
    "<br>&emsp;&emsp; df = (rows-1)(columns-1) = (2-1)(3-1) =2\n",
    "<br>&emsp;**STEP-4:Calculate test statistic :**"
   ]
  },
  {
   "cell_type": "code",
   "execution_count": 50,
   "metadata": {},
   "outputs": [
    {
     "data": {
      "text/html": [
       "<div>\n",
       "<style scoped>\n",
       "    .dataframe tbody tr th:only-of-type {\n",
       "        vertical-align: middle;\n",
       "    }\n",
       "\n",
       "    .dataframe tbody tr th {\n",
       "        vertical-align: top;\n",
       "    }\n",
       "\n",
       "    .dataframe thead th {\n",
       "        text-align: right;\n",
       "    }\n",
       "</style>\n",
       "<table border=\"1\" class=\"dataframe\">\n",
       "  <thead>\n",
       "    <tr style=\"text-align: right;\">\n",
       "      <th></th>\n",
       "      <th>PensionPlan_1</th>\n",
       "      <th>PensionPlan_2</th>\n",
       "      <th>PensionPlan_3</th>\n",
       "    </tr>\n",
       "  </thead>\n",
       "  <tbody>\n",
       "    <tr>\n",
       "      <th>SalariedWorker</th>\n",
       "      <td>166</td>\n",
       "      <td>86</td>\n",
       "      <td>68</td>\n",
       "    </tr>\n",
       "    <tr>\n",
       "      <th>HourlyWorker</th>\n",
       "      <td>84</td>\n",
       "      <td>64</td>\n",
       "      <td>32</td>\n",
       "    </tr>\n",
       "  </tbody>\n",
       "</table>\n",
       "</div>"
      ],
      "text/plain": [
       "                PensionPlan_1  PensionPlan_2  PensionPlan_3\n",
       "SalariedWorker            166             86             68\n",
       "HourlyWorker               84             64             32"
      ]
     },
     "execution_count": 50,
     "metadata": {},
     "output_type": "execute_result"
    }
   ],
   "source": [
    "data = pd.DataFrame({'PensionPlan_1' : [166, 84],\n",
    "                     'PensionPlan_2' : [86, 64],\n",
    "                     'PensionPlan_3' : [68, 32]},\n",
    "                    index = ['SalariedWorker', 'HourlyWorker'])\n",
    "data"
   ]
  },
  {
   "cell_type": "code",
   "execution_count": 51,
   "metadata": {},
   "outputs": [
    {
     "name": "stdout",
     "output_type": "stream",
     "text": [
      "chisquare statistical value = 4.21\n",
      "P value = 0.12\n",
      "chisquare critical value = 5.99\n",
      "Accept H0 and Reject H1\n"
     ]
    }
   ],
   "source": [
    "chisquare_Stats = 0\n",
    "for i in range(data.shape[0]):\n",
    "    for j in range(data.shape[1]):\n",
    "        O = data.iloc[i][j]\n",
    "        E = (data.iloc[i].sum()*data.iloc[:,j].sum())/data.sum().sum()\n",
    "        chisquare_Stats += ((O-E)**2)/E\n",
    "print(f'chisquare statistical value = {round(chisquare_Stats, 2)}')\n",
    "print(f'P value = {round(1-scipy.stats.chi2.cdf(4.21, 2), 2)}')\n",
    "chisquare_Crit = round(scipy.stats.chi2.ppf(0.95, 2), 2)\n",
    "print(f'chisquare critical value = {chisquare_Crit}')\n",
    "if(chisquare_Stats<chisquare_Crit):\n",
    "    print('Accept H0 and Reject H1')\n",
    "else:\n",
    "    print('Reject H0 and Accept H1')"
   ]
  },
  {
   "cell_type": "markdown",
   "metadata": {},
   "source": [
    "<br>&emsp;**STEP-5:Conclusion :**\n",
    "<br>&emsp;&emsp; Accept ${H_0}$, which shows job satisfaction and pension plan are not associated. "
   ]
  },
  {
   "cell_type": "markdown",
   "metadata": {},
   "source": [
    "**2. To assess the length of stay and the type of insurance, data were taken on 70 individuals** \n",
    "\n",
    "|Type of Insurance|length of Hospital stay<=10|length of Hospital stay>10|Total|\n",
    "|---|---|---|---|\n",
    "|Type1|39|3|42|\n",
    "|Type2|21|7|28|\n",
    "|Total|60|10|70|\n",
    "\n",
    "**Examine whether Chi-square test can be applied to this data to test the independence between type of insurance and length of hospital stay?**"
   ]
  },
  {
   "cell_type": "markdown",
   "metadata": {},
   "source": [
    "**A. \n",
    "<br>&emsp;STEP-1:State null and alternative hypothesis** :\n",
    "<br>&emsp;&emsp;${H_0}$ = Type of insurance plan and length of hospital stay may be independent \n",
    "<br>&emsp;&emsp;${H_1}$ =  Type of insurance plan and length of hospital stay may be associated \n",
    "<br>&emsp;**STEP-2:Specify the level of significance  𝛼** :\n",
    "<br>&emsp;&emsp;&emsp;&emsp; 𝛼 = 0.05\n",
    "<br>&emsp;**STEP-3:Calculate Degree of Freedom :**\n",
    "<br>&emsp;&emsp; df = (rows-1)(columns-1) = (2-1)(2-1) = 1\n",
    "<br>&emsp;**STEP-4:Calculate test statistic :**"
   ]
  },
  {
   "cell_type": "code",
   "execution_count": 52,
   "metadata": {},
   "outputs": [
    {
     "data": {
      "text/html": [
       "<div>\n",
       "<style scoped>\n",
       "    .dataframe tbody tr th:only-of-type {\n",
       "        vertical-align: middle;\n",
       "    }\n",
       "\n",
       "    .dataframe tbody tr th {\n",
       "        vertical-align: top;\n",
       "    }\n",
       "\n",
       "    .dataframe thead th {\n",
       "        text-align: right;\n",
       "    }\n",
       "</style>\n",
       "<table border=\"1\" class=\"dataframe\">\n",
       "  <thead>\n",
       "    <tr style=\"text-align: right;\">\n",
       "      <th></th>\n",
       "      <th>HospitalStay&lt;=10</th>\n",
       "      <th>HospitalStay&gt;10</th>\n",
       "    </tr>\n",
       "  </thead>\n",
       "  <tbody>\n",
       "    <tr>\n",
       "      <th>Type1_Ins</th>\n",
       "      <td>39</td>\n",
       "      <td>3</td>\n",
       "    </tr>\n",
       "    <tr>\n",
       "      <th>Type2_Ins</th>\n",
       "      <td>21</td>\n",
       "      <td>7</td>\n",
       "    </tr>\n",
       "  </tbody>\n",
       "</table>\n",
       "</div>"
      ],
      "text/plain": [
       "           HospitalStay<=10  HospitalStay>10\n",
       "Type1_Ins                39                3\n",
       "Type2_Ins                21                7"
      ]
     },
     "execution_count": 52,
     "metadata": {},
     "output_type": "execute_result"
    }
   ],
   "source": [
    "data = pd.DataFrame({'HospitalStay<=10' : [39, 21],\n",
    "                     'HospitalStay>10' : [3, 7]},\n",
    "                    index = ['Type1_Ins', 'Type2_Ins'])\n",
    "data"
   ]
  },
  {
   "cell_type": "code",
   "execution_count": 53,
   "metadata": {},
   "outputs": [
    {
     "name": "stdout",
     "output_type": "stream",
     "text": [
      "Chi-square cannot be applied\n"
     ]
    }
   ],
   "source": [
    "chisquare_Stats = 0\n",
    "for i in range(data.shape[0]):\n",
    "    for j in range(data.shape[1]):\n",
    "        O = data.iloc[i][j]\n",
    "        E = (data.iloc[i].sum()*data.iloc[:,j].sum())/data.sum().sum()\n",
    "        if E<5:\n",
    "            chisquare_Stats = None\n",
    "            break\n",
    "        chisquare_Stats += ((O-E)**2)/E\n",
    "if (chisquare_Stats == None):\n",
    "    print('Chi-square cannot be applied')\n",
    "else:\n",
    "    print(f'chisquare statistical value = {chisquare_Stats}')"
   ]
  },
  {
   "cell_type": "markdown",
   "metadata": {},
   "source": [
    "* Since the expected frequency is less than 5 Chi-square cannot be applied and hence the **Fisher’s exact probabilities** has to be calculated. \n",
    "* The fisher's exact Probability = ${p}={\\frac{r_1!}{a!}\\frac{r_2!}{b!}\\frac{c_1!}{c!}\\frac{c_2!}{d!}}$"
   ]
  },
  {
   "cell_type": "code",
   "execution_count": 54,
   "metadata": {},
   "outputs": [
    {
     "name": "stdout",
     "output_type": "stream",
     "text": [
      "fisher's exact Probability p= 0.07695522058472289\n",
      "Accept H0 and Reject H1\n"
     ]
    }
   ],
   "source": [
    "oddsratio, pvalue = scipy.stats.stats.fisher_exact(data)\n",
    "print(f'fisher\\'s exact Probability p= {pvalue}')\n",
    "if(pvalue>0.05):\n",
    "    print('Accept H0 and Reject H1')\n",
    "else:\n",
    "    print('Reject H0 and Accept H1')   "
   ]
  },
  {
   "cell_type": "markdown",
   "metadata": {},
   "source": [
    "<br>&emsp;**STEP-5:Conclusion :**\n",
    "<br>&emsp;&emsp; Accept ${H_0}$, hence the type of insurance and length at may be independent. "
   ]
  },
  {
   "cell_type": "markdown",
   "metadata": {},
   "source": [
    "***\n",
    "\n",
    "### Mann-Whitney Utest :\n",
    "* Mann-Whitney Utest is similar to unpaired t-test\n",
    "* The Mann-Whitney U test is used to compare differences between two independent groups when the dependent variable is either ordinal or continuous, but not normally distributed.\n",
    "* Denote the samples ${G_1}$ and ${G_2}$\n",
    "* Denote the size of each of the sample ${n_1}$ and ${n_2}$ ${\\implies}$ ${n}={n_1+n_2}$\n",
    "* Combine the data, keeping track of the sample from which each datumarose\n",
    "* **Rank the Data :-**\n",
    "    - Lowest value with rank 1\n",
    "    - Next value with rank 2\n",
    "    - Average rank for tied observations\n",
    "    - Highest value with rank n\n",
    "* Add the ranks of each samples seperately naming the sums ${R_1}$ and ${R_2}$\n",
    "* Denote the sum the rank Group 1 as ${U_1}$ and sum the other Group 2 and denote it as ${U_2}$\n",
    "<br>&emsp;&emsp;${U_1}={R_1}-{\\frac{n_1(n_1+1)}{2}}$\n",
    "<br>&emsp;&emsp;${U_2}={R_2}-{\\frac{n_2(n_2+1)}{2}}$\n",
    "<br>&emsp;&emsp;${Mean} = {\\mu} = {\\frac{n_1n_2}{2}}$\n",
    "<br>&emsp;&emsp;${\\sigma_U} = {\\sqrt{\\frac{n_1n_2(n_1+n_2+1)}{12}}}$\n",
    "<br>&emsp;&emsp; Where\n",
    "<br>&emsp;&emsp;&emsp;${n_1\\to \\text{Sample Size of Group-1}}$\n",
    "<br>&emsp;&emsp;&emsp;${n_2\\to \\text{Sample Size of Group-2}}$\n",
    "* Find the U = Minimum(${U_1,U_2}$)\n",
    "* If the calculated value more than critical value then null hypothesis is not rejected, otherwise it is rejected."
   ]
  },
  {
   "cell_type": "markdown",
   "metadata": {},
   "source": [
    "#### Example :\n",
    "**1.The results serum fibronogen degradation product FDP values are follows:**\n",
    "\n",
    "|Control Group|10|180|80|5|40|15|30|160|||\n",
    "|---|---|---|---|---|---|---|---|---|---|---|\n",
    "|Treated Group|7.8|40|10|80|180|5|80|10|5|7.5|\n",
    "\n",
    "**Do the data suggest that the data suggest the significant difference between FDP value of control and treated group**"
   ]
  },
  {
   "cell_type": "markdown",
   "metadata": {},
   "source": [
    "**A. \n",
    "<br>&emsp;STEP-1:State null and alternative hypothesis** :\n",
    "<br>&emsp;&emsp;${H_0}$ = There is no difference between control and treated group\n",
    "<br>&emsp;&emsp;${H_1}$ = There is difference between control and treated group  \n",
    "<br>&emsp;**STEP-2:Specify the level of significance  𝛼** :\n",
    "<br>&emsp;&emsp;&emsp;&emsp; 𝛼 = 0.05\n",
    "<br>&emsp;**STEP-3:Calculate test statistic :**"
   ]
  },
  {
   "cell_type": "code",
   "execution_count": 55,
   "metadata": {},
   "outputs": [
    {
     "name": "stdout",
     "output_type": "stream",
     "text": [
      "statistical value = 29.0\n",
      "pvalue = 0.17366957707171254\n",
      "Accept H0 and Reject H1\n"
     ]
    }
   ],
   "source": [
    "x = np.array([10, 180, 80, 5, 40, 15, 30, 160]) \n",
    "y = np.array([7.8, 40, 10, 80, 180, 5, 80, 10, 5, 7.5])\n",
    "statistic, pvalue = scipy.stats.mannwhitneyu(x, y)\n",
    "print(f'statistical value = {statistic}')\n",
    "print(f'pvalue = {pvalue}')\n",
    "if (pvalue>0.05):\n",
    "    print('Accept H0 and Reject H1')\n",
    "else:\n",
    "    print('Reject H0 and Accept H1')"
   ]
  },
  {
   "cell_type": "markdown",
   "metadata": {},
   "source": [
    "<br>&emsp;**STEP-4:Conclusion :**\n",
    "<br>&emsp;&emsp; Accept ${H_0}$, There is no difference between control and treated group."
   ]
  },
  {
   "cell_type": "markdown",
   "metadata": {},
   "source": [
    "***\n",
    "\n",
    "### Wilcoxon Signed Rank test : \n",
    "* It can be used as an alternative to the paired Student's t-test.\n",
    "* The Wilcoxon signed-rank test is a non-parametric statistical hypothesis test used to compare two related samples, matched samples, or repeated measurements on a single sample to assess whether their population mean ranks differ (i.e. it is a paired difference test).\n",
    "* A Wilcoxon signed-rank test is a nonparametric test that can be used to determine whether two dependent samples were selected from populations having the same distribution.\n",
    "* Denote the before and after observation by X and Y\n",
    "* Find the difference between X and Y\n",
    "* Ignore the sign of the difference\n",
    "* **Rank the Difference :**\n",
    "    * Rank 1 for smaller difference\n",
    "    * Rank 2 for next smaller difference\n",
    "    * Assign average rank for the tied values in the difference\n",
    "    * Rank n for the larger difference\n",
    "* Attach the original sign to the ranks assigned to the difference\n",
    "* Find the sum of the positive ranks and negative ranks separately.\n",
    "* Choose the minimum of sum of positive and negative ranks.\n",
    "* The calculated value more than critical value the null hypothesis in not rejected, otherwise it is rejected"
   ]
  },
  {
   "cell_type": "markdown",
   "metadata": {},
   "source": [
    "#### Example :\n",
    "**1. Ten workers were given on the job training with a view to shorten their assembly time for a certain mechanism. The results of the time (min) before and after are as follows:**\n",
    "\n",
    "|Before|61|62|55|62|59|74|62|97|10|2|\n",
    "|---|---|---|---|---|---|---|---|---|---|---|\n",
    "|After|59|63|57|54|87|70|67|96|59|7|\n",
    "\n",
    "**Test at 5% whether the training program has shortened the assembly time?**\n"
   ]
  },
  {
   "cell_type": "markdown",
   "metadata": {},
   "source": [
    "**A. \n",
    "<br>&emsp;STEP-1:State null and alternative hypothesis** :\n",
    "<br>&emsp;&emsp;${H_0}$ = There is no difference between before and after training\n",
    "<br>&emsp;&emsp;${H_1}$ = There is difference between before and after training \n",
    "<br>&emsp;**STEP-2:Specify the level of significance  𝛼** :\n",
    "<br>&emsp;&emsp;&emsp;&emsp; 𝛼 = 0.05\n",
    "<br>&emsp;**STEP-3:Calculate test statistic :**"
   ]
  },
  {
   "cell_type": "code",
   "execution_count": 60,
   "metadata": {},
   "outputs": [
    {
     "name": "stdout",
     "output_type": "stream",
     "text": [
      "statistical value = 18.0\n",
      "pvalue = 0.375\n",
      "Accept H0 and Reject H1\n"
     ]
    }
   ],
   "source": [
    "before = np.array([61, 62, 55, 62, 59, 74, 62, 97, 10, 2])\n",
    "after = np.array([59, 63, 57, 54, 87, 70, 67, 96, 59, 7])\n",
    "statistic, pvalue = scipy.stats.wilcoxon(before, after)\n",
    "print(f'statistical value = {statistic}')\n",
    "print(f'pvalue = {pvalue}')\n",
    "if (pvalue>0.05):\n",
    "    print('Accept H0 and Reject H1')\n",
    "else:\n",
    "    print('Reject H0 and Accept H1')"
   ]
  },
  {
   "cell_type": "markdown",
   "metadata": {},
   "source": [
    "<br>&emsp;**STEP-4:Conclusion :**\n",
    "<br>&emsp;&emsp; Accept ${H_0}$, There is no difference between before and after training."
   ]
  },
  {
   "cell_type": "markdown",
   "metadata": {},
   "source": [
    "***\n",
    "\n",
    "### Kruskal-Wallis Test :\n",
    "* The Kruskal-Wallis H test (sometimes also called the \"one-way ANOVA on ranks\") is a rank-based nonparametric test that can be used to determine if there are statistically significant differences between two or more groups of an independent variable on a continuous or ordinal dependent variable. \n",
    "* It is considered the nonparametric alternative to the one-way ANOVA, and an extension of the Mann-Whitney U test to allow the comparison of more than two independent groups.\n",
    "* Denote the k samples as ${G_1, G_2, G_3, …, G_k}$\n",
    "* Denote the size of each of the samples as ${n_1, n_2, n_3, …,n_k}$ and ${n=n_1+n_2+n_3+...+n_k}$\n",
    "* Combine the data, keeping track of the sample from which each datumarose\n",
    "* **Rank the Difference :**\n",
    "    * Rank 1 for smaller difference\n",
    "    * Rank 2 for next smaller difference\n",
    "    * Assign average rank for the tied values in the difference\n",
    "    * Rank n for the larger difference\n",
    "* Add the ranks of each sample separately, naming the sums ${R_1, R_2, R_3, …,R_k}$\n",
    "* Calculate the test-statistic given by\n",
    "<br>&emsp;&emsp;${H = \\frac{12}{n(n+1)}\\sum_{i=1}^k \\frac{R_i^2}{n_i}-{3(n+1)}}$\n",
    "<br>&emsp;&emsp;where ${R_i}$ is the sum of the rank of the ${i^{th}}$ group\n",
    "<br>&emsp;&emsp;&emsp;&emsp;&emsp;${n_i}$ is the number of observation in the ${i^{th}}$ group\n",
    "* The calculated value more than critical value the null hypothesis in not rejected, otherwise it is rejected"
   ]
  },
  {
   "cell_type": "markdown",
   "metadata": {},
   "source": [
    "#### Example :\n",
    "**1. Is PSA the Same among BPH, CaP, and NED Patients?\n",
    "A urologist asks whether PSA level is different among the three patient groups: 6 with benign prostatic hypertrophy (BPH), 8 with positive biopsy for prostate cancer (CaP), and 8 with negative biopsy and no evidence of disease (NED)61. The PSA levels are shown in table**\n",
    "\n",
    "|BPH|5.3|7.9|8.7|4.3|6.6|6.4|||\n",
    "|---|---|---|---|---|---|---|---|---|\n",
    "|Positive biopsy|7.1|6.6|6.5|14.8|17.3|3.4|13.4|7.6|\n",
    "|Negative biopsy|11.4|0.5|1.6|2.3|3.1|1.4|4.4|5.1|\n",
    "\n",
    "**A quick data plot shows the distributions to be non-normal. We want to compare the three groups with a rank-order-based test.**"
   ]
  },
  {
   "cell_type": "markdown",
   "metadata": {},
   "source": [
    "**A. \n",
    "<br>&emsp;STEP-1:State null and alternative hypothesis** :\n",
    "<br>&emsp;&emsp;${H_0}$ = All groups are equal \n",
    "<br>&emsp;&emsp;${H_1}$ =  All groups are not equal \n",
    "<br>&emsp;**STEP-2:Specify the level of significance  𝛼** :\n",
    "<br>&emsp;&emsp;&emsp;&emsp; 𝛼 = 0.05\n",
    "<br>&emsp;**STEP-3:Calculate Degree of Freedom :**\n",
    "<br>&emsp;&emsp; df = no of groups - 1 = 3-1\n",
    "<br>&emsp;**STEP-4:Calculate test statistic :**"
   ]
  },
  {
   "cell_type": "code",
   "execution_count": 62,
   "metadata": {},
   "outputs": [
    {
     "name": "stdout",
     "output_type": "stream",
     "text": [
      "statistical value = 8.537182203389825\n",
      "pvalue = 0.014001495947325339\n",
      "Reject H0 and Accept H1\n"
     ]
    }
   ],
   "source": [
    "bph = np.array([5.3, 7.9, 8.7, 4.3, 6.6, 6.4])\n",
    "pb = np.array([7.1, 6.6, 6.5, 14.8, 17.3, 3.4, 13.4, 7.6])\n",
    "nb = np.array([11.4, 0.5, 1.6, 2.3, 3.1, 1.4, 4.4, 5.1])\n",
    "statistic, pvalue = scipy.stats.kruskal(bph, pb, nb)\n",
    "print(f'statistical value = {statistic}')\n",
    "print(f'pvalue = {pvalue}')\n",
    "if (pvalue>0.05):\n",
    "    print('Accept H0 and Reject H1')\n",
    "else:\n",
    "    print('Reject H0 and Accept H1')"
   ]
  },
  {
   "cell_type": "markdown",
   "metadata": {},
   "source": [
    "<br>&emsp;**STEP-4:Conclusion :**\n",
    "<br>&emsp;&emsp; Reject ${H_0}$, All groups are not equal."
   ]
  },
  {
   "cell_type": "markdown",
   "metadata": {},
   "source": [
    "<h1 align='center'>Thank you!🙂</h1>"
   ]
  }
 ],
 "metadata": {
  "kernelspec": {
   "display_name": "Python 3",
   "language": "python",
   "name": "python3"
  },
  "language_info": {
   "codemirror_mode": {
    "name": "ipython",
    "version": 3
   },
   "file_extension": ".py",
   "mimetype": "text/x-python",
   "name": "python",
   "nbconvert_exporter": "python",
   "pygments_lexer": "ipython3",
   "version": "3.7.7"
  }
 },
 "nbformat": 4,
 "nbformat_minor": 4
}
